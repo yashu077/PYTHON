{
 "cells": [
  {
   "cell_type": "raw",
   "id": "34256aa8",
   "metadata": {},
   "source": [
    "List is an datatype-List stores multiple datatypes in it \n",
    "it is mutable datatype \n",
    "eg --- a=[10,20,30,\"yash\",[10,20,30],\"veer\"]"
   ]
  },
  {
   "cell_type": "raw",
   "id": "5675e4ad",
   "metadata": {},
   "source": [
    "# meathods (function) in list \n",
    "--- sort  --- bydefault ascending order --- a.sort(reverce=true) for descinding order\n",
    "--- len --- to find lenght of list (only integer datatype)\n",
    "--- reverce --- reverces the list\n",
    "--- pop(index value) --- delete element  -- without index value delete last element  \n",
    "--- remove(value which have to be removed) \n",
    "--- insert(index value,data) --- insert data ino list\n",
    "--- append -- to add two lists(merge)\n",
    "--- extend -- to add two lists \n",
    "--- remove --- removes the selected element\n",
    "--- index --- Returns the index of the first element with the specified value\n",
    "--- count ---Returns the number of elements with the specified value\n",
    "--- clear --- Removes all the elements from the list"
   ]
  },
  {
   "cell_type": "raw",
   "id": "2630b574",
   "metadata": {},
   "source": [
    "***********************IN*******************************\n",
    "Method\t                           Description\n",
    "\n",
    "append()\t                       Adds an element at the end of the list\n",
    "\n",
    "clear()\t                           Removes all the elements from the list\n",
    "\n",
    "copy()\t                           Returns a copy of the list\n",
    "\n",
    "count()\t                           Returns the number of elements with the specified value\n",
    "\n",
    "extend()\t                       Add the elements of a list (or any iterable), to the end of the                                        current list\n",
    "\n",
    "index()\t                           Returns the index of the first element with the specified value\n",
    "\n",
    "insert()\t                       Adds an element at the specified position\n",
    "\n",
    "pop()\t                           Removes the element at the specified position\n",
    "\n",
    "remove()\t                       Removes the first item with the specified value\n",
    "\n",
    "reverse()\t                       Reverses the order of the list\n",
    "\n",
    "sort()\t                           Sorts the list"
   ]
  },
  {
   "cell_type": "markdown",
   "id": "ab89b2aa",
   "metadata": {},
   "source": [
    "# Sort "
   ]
  },
  {
   "cell_type": "code",
   "execution_count": 6,
   "id": "5cf738d4",
   "metadata": {},
   "outputs": [
    {
     "name": "stdout",
     "output_type": "stream",
     "text": [
      "[0, 2, 3, 4, 4, 5, 5, 5, 7, 7, 8]\n"
     ]
    }
   ],
   "source": [
    "a=[5,4,5,7,8,2,4,0,5,7,3]\n",
    "a.sort()\n",
    "print(a)"
   ]
  },
  {
   "cell_type": "code",
   "execution_count": 7,
   "id": "87e2f478",
   "metadata": {},
   "outputs": [
    {
     "name": "stdout",
     "output_type": "stream",
     "text": [
      "[8, 7, 7, 5, 5, 5, 4, 4, 3, 2, 0]\n"
     ]
    }
   ],
   "source": [
    "a=[5,4,5,7,8,2,4,0,5,7,3]\n",
    "a.sort(reverse=True)\n",
    "print(a)"
   ]
  },
  {
   "cell_type": "code",
   "execution_count": 54,
   "id": "0903aef4",
   "metadata": {},
   "outputs": [
    {
     "ename": "TypeError",
     "evalue": "'<' not supported between instances of 'str' and 'int'",
     "output_type": "error",
     "traceback": [
      "\u001b[1;31m---------------------------------------------------------------------------\u001b[0m",
      "\u001b[1;31mTypeError\u001b[0m                                 Traceback (most recent call last)",
      "Cell \u001b[1;32mIn[54], line 2\u001b[0m\n\u001b[0;32m      1\u001b[0m a\u001b[38;5;241m=\u001b[39m[\u001b[38;5;241m9\u001b[39m,\u001b[38;5;241m5\u001b[39m,\u001b[38;5;241m6\u001b[39m,\u001b[38;5;241m7\u001b[39m,\u001b[38;5;241m3\u001b[39m,\u001b[38;5;241m2\u001b[39m,\u001b[38;5;241m0\u001b[39m,\u001b[38;5;124m\"\u001b[39m\u001b[38;5;124myash\u001b[39m\u001b[38;5;124m\"\u001b[39m,\u001b[38;5;124m\"\u001b[39m\u001b[38;5;124myazu\u001b[39m\u001b[38;5;124m\"\u001b[39m,\u001b[38;5;124m\"\u001b[39m\u001b[38;5;124marpan\u001b[39m\u001b[38;5;124m\"\u001b[39m,\u001b[38;5;124m\"\u001b[39m\u001b[38;5;124mArpan\u001b[39m\u001b[38;5;124m\"\u001b[39m,\u001b[38;5;124m\"\u001b[39m\u001b[38;5;124mZZZ\u001b[39m\u001b[38;5;124m\"\u001b[39m,\u001b[38;5;124m\"\u001b[39m\u001b[38;5;124mzzz\u001b[39m\u001b[38;5;124m\"\u001b[39m]\n\u001b[1;32m----> 2\u001b[0m a\u001b[38;5;241m.\u001b[39msort()\n\u001b[0;32m      3\u001b[0m \u001b[38;5;28mprint\u001b[39m(a)\n",
      "\u001b[1;31mTypeError\u001b[0m: '<' not supported between instances of 'str' and 'int'"
     ]
    }
   ],
   "source": [
    "a=[9,5,6,7,3,2,0,\"yash\",\"yazu\",\"arpan\",\"Arpan\",\"ZZZ\",\"zzz\"]\n",
    "a.sort()\n",
    "print(a)"
   ]
  },
  {
   "cell_type": "code",
   "execution_count": 56,
   "id": "b8622966",
   "metadata": {},
   "outputs": [
    {
     "name": "stdout",
     "output_type": "stream",
     "text": [
      "['AA', 'Arpan', 'ZZZ', 'aa', 'arpan', 'yash', 'yazu', 'zzz']\n"
     ]
    }
   ],
   "source": [
    "a=[\"yash\",\"yazu\",\"arpan\",\"Arpan\",\"ZZZ\",\"zzz\",\"AA\",\"aa\"]\n",
    "a.sort()\n",
    "print(a)"
   ]
  },
  {
   "cell_type": "markdown",
   "id": "e0297298",
   "metadata": {},
   "source": [
    "# Reverse"
   ]
  },
  {
   "cell_type": "code",
   "execution_count": 18,
   "id": "1aaa0a02",
   "metadata": {},
   "outputs": [
    {
     "name": "stdout",
     "output_type": "stream",
     "text": [
      "[3, 7, 5, 0, 4, 2, 8, 7, 5, 4, 5]\n"
     ]
    }
   ],
   "source": [
    "a=[5,4,5,7,8,2,4,0,5,7,3]\n",
    "a.reverse()\n",
    "print(a)"
   ]
  },
  {
   "cell_type": "markdown",
   "id": "edefa2ef",
   "metadata": {},
   "source": [
    "# Count"
   ]
  },
  {
   "cell_type": "code",
   "execution_count": 24,
   "id": "c21972bf",
   "metadata": {},
   "outputs": [
    {
     "name": "stdout",
     "output_type": "stream",
     "text": [
      "6\n"
     ]
    }
   ],
   "source": [
    "a=[5,4,5,7,8,2,4,0,5,7,3,7,7,7,7]\n",
    "b=a.count(7)\n",
    "print(b)"
   ]
  },
  {
   "cell_type": "markdown",
   "id": "69854c33",
   "metadata": {},
   "source": [
    "# Clear"
   ]
  },
  {
   "cell_type": "code",
   "execution_count": 26,
   "id": "a34b4f93",
   "metadata": {},
   "outputs": [
    {
     "name": "stdout",
     "output_type": "stream",
     "text": [
      "[]\n"
     ]
    }
   ],
   "source": [
    "a=[5,4,5,7,8,2,4,0,5,7,3,7,7,7,2]\n",
    "a.clear()\n",
    "print(a)"
   ]
  },
  {
   "cell_type": "markdown",
   "id": "aedcf5dc",
   "metadata": {},
   "source": [
    "# Remove"
   ]
  },
  {
   "cell_type": "code",
   "execution_count": 29,
   "id": "484527ac",
   "metadata": {},
   "outputs": [
    {
     "name": "stdout",
     "output_type": "stream",
     "text": [
      "[5, 4, 5, 7, 8, 4, 0, 5, 7, 3, 7, 7, 7, 2]\n"
     ]
    }
   ],
   "source": [
    "a=[5,4,5,7,8,2,4,0,5,7,3,7,7,7,2]\n",
    "a.remove(2)\n",
    "print(a)"
   ]
  },
  {
   "cell_type": "raw",
   "id": "70c84fa8",
   "metadata": {},
   "source": [
    "removes the element that has occured 1st (First come first serve)  [Atlest one argument have to be passed]"
   ]
  },
  {
   "cell_type": "code",
   "execution_count": 30,
   "id": "a192c467",
   "metadata": {},
   "outputs": [
    {
     "name": "stdout",
     "output_type": "stream",
     "text": [
      "[5, 4, 5, 7, 8, 2, 4, 5, 7, 3, 7, 7, 7, 2]\n"
     ]
    }
   ],
   "source": [
    "a=[5,4,5,7,8,2,4,0,5,7,3,7,7,7,2]\n",
    "a.remove(0)\n",
    "print(a)"
   ]
  },
  {
   "cell_type": "markdown",
   "id": "fe690015",
   "metadata": {},
   "source": [
    "# Index"
   ]
  },
  {
   "cell_type": "code",
   "execution_count": 33,
   "id": "b1eb88f6",
   "metadata": {},
   "outputs": [
    {
     "name": "stdout",
     "output_type": "stream",
     "text": [
      "6\n"
     ]
    }
   ],
   "source": [
    "a=[1,2,3,4,5,6,0]\n",
    "b=a.index(0)\n",
    "print(b)"
   ]
  },
  {
   "cell_type": "code",
   "execution_count": 34,
   "id": "af1cd6b9",
   "metadata": {},
   "outputs": [
    {
     "name": "stdout",
     "output_type": "stream",
     "text": [
      "0\n"
     ]
    }
   ],
   "source": [
    "a=[\"yash\",\"veer\",\"bawne\"]\n",
    "b=a.index(\"yash\")\n",
    "print(b)"
   ]
  },
  {
   "cell_type": "markdown",
   "id": "9267b481",
   "metadata": {},
   "source": [
    "\n",
    "# Extend"
   ]
  },
  {
   "cell_type": "code",
   "execution_count": 39,
   "id": "f67911f8",
   "metadata": {},
   "outputs": [
    {
     "name": "stdout",
     "output_type": "stream",
     "text": [
      "[1, 2, 3, 4, 5, 10, 9, 8, 7, 6]\n"
     ]
    }
   ],
   "source": [
    "a=[1,2,3,4,5]\n",
    "b=[10,9,8,7,6]\n",
    "a.extend(b)\n",
    "print(a)"
   ]
  },
  {
   "cell_type": "code",
   "execution_count": 40,
   "id": "97a3e610",
   "metadata": {},
   "outputs": [
    {
     "name": "stdout",
     "output_type": "stream",
     "text": [
      "['Yashveer', 'Bawne', 'RZI']\n"
     ]
    }
   ],
   "source": [
    "a=[\"Yashveer\"]\n",
    "b=[\"Bawne\",\"RZI\"]\n",
    "a.extend(b)\n",
    "print(a)"
   ]
  },
  {
   "cell_type": "markdown",
   "id": "d2c10b8b",
   "metadata": {},
   "source": [
    "# Append"
   ]
  },
  {
   "cell_type": "code",
   "execution_count": 41,
   "id": "9aef3949",
   "metadata": {},
   "outputs": [
    {
     "name": "stdout",
     "output_type": "stream",
     "text": [
      "['Yashveer', ['Bawne', 'RZI']]\n"
     ]
    }
   ],
   "source": [
    "a=[\"Yashveer\"]\n",
    "b=[\"Bawne\",\"RZI\"]\n",
    "a.append(b)\n",
    "print(a)"
   ]
  },
  {
   "cell_type": "code",
   "execution_count": 42,
   "id": "9cbba8d5",
   "metadata": {},
   "outputs": [
    {
     "name": "stdout",
     "output_type": "stream",
     "text": [
      "[1, 2, 3, 4, 5, [10, 9, 8, 7, 6]]\n"
     ]
    }
   ],
   "source": [
    "a=[1,2,3,4,5]\n",
    "b=[10,9,8,7,6]\n",
    "a.append(b)\n",
    "print(a)"
   ]
  },
  {
   "cell_type": "code",
   "execution_count": 43,
   "id": "2a7fadf0",
   "metadata": {},
   "outputs": [
    {
     "name": "stdout",
     "output_type": "stream",
     "text": [
      "['Yashveer', ['Bawne']]\n"
     ]
    }
   ],
   "source": [
    "a=[\"Yashveer\"]\n",
    "b=[\"Bawne\"]\n",
    "a.append(b)\n",
    "print(a)"
   ]
  },
  {
   "cell_type": "markdown",
   "id": "276ce4af",
   "metadata": {},
   "source": [
    "# Copy"
   ]
  },
  {
   "cell_type": "code",
   "execution_count": 46,
   "id": "0361bd38",
   "metadata": {},
   "outputs": [
    {
     "name": "stdout",
     "output_type": "stream",
     "text": [
      "['Yashveer', 'Apran', 'Piyush']\n"
     ]
    }
   ],
   "source": [
    "a=[\"Yashveer\",\"Apran\",\"Piyush\"]\n",
    "b=a\n",
    "print(b)"
   ]
  },
  {
   "cell_type": "code",
   "execution_count": 48,
   "id": "a17f7ec9",
   "metadata": {},
   "outputs": [
    {
     "name": "stdout",
     "output_type": "stream",
     "text": [
      "['Yashveer', 'Apran', 'Piyush']\n"
     ]
    }
   ],
   "source": [
    "a=[\"Yashveer\",\"Apran\",\"Piyush\"]\n",
    "b=a.copy()\n",
    "print(b)"
   ]
  },
  {
   "cell_type": "markdown",
   "id": "5c44f21b",
   "metadata": {},
   "source": [
    "# Insert"
   ]
  },
  {
   "cell_type": "code",
   "execution_count": 50,
   "id": "e632f1de",
   "metadata": {},
   "outputs": [
    {
     "name": "stdout",
     "output_type": "stream",
     "text": [
      "['Yashveer', 'Apran', 3304, 'Piyush']\n"
     ]
    }
   ],
   "source": [
    "a=[\"Yashveer\",\"Apran\",\"Piyush\"]\n",
    "a.insert(2,3304)\n",
    "print(a)"
   ]
  },
  {
   "cell_type": "markdown",
   "id": "bb07993f",
   "metadata": {},
   "source": [
    "# Pop"
   ]
  },
  {
   "cell_type": "code",
   "execution_count": 51,
   "id": "56777010",
   "metadata": {},
   "outputs": [
    {
     "name": "stdout",
     "output_type": "stream",
     "text": [
      "['Yashveer', 'Apran', 'Piyush', 'Naman', 'Yash']\n"
     ]
    }
   ],
   "source": [
    "a=[\"Yashveer\",\"Apran\",\"Piyush\",\"Naman\",\"Yash\",\"Dhruv\"]\n",
    "a.pop()\n",
    "print(a)"
   ]
  },
  {
   "cell_type": "code",
   "execution_count": 52,
   "id": "6a9ed1ac",
   "metadata": {},
   "outputs": [
    {
     "name": "stdout",
     "output_type": "stream",
     "text": [
      "['Yashveer', 'Piyush', 'Naman', 'Yash', 'Dhruv']\n"
     ]
    }
   ],
   "source": [
    "a=[\"Yashveer\",\"Apran\",\"Piyush\",\"Naman\",\"Yash\",\"Dhruv\"]\n",
    "a.pop(1)\n",
    "print(a)"
   ]
  },
  {
   "cell_type": "code",
   "execution_count": null,
   "id": "447ded29",
   "metadata": {},
   "outputs": [],
   "source": []
  },
  {
   "cell_type": "code",
   "execution_count": null,
   "id": "c94af544",
   "metadata": {},
   "outputs": [],
   "source": []
  }
 ],
 "metadata": {
  "kernelspec": {
   "display_name": "Python 3 (ipykernel)",
   "language": "python",
   "name": "python3"
  },
  "language_info": {
   "codemirror_mode": {
    "name": "ipython",
    "version": 3
   },
   "file_extension": ".py",
   "mimetype": "text/x-python",
   "name": "python",
   "nbconvert_exporter": "python",
   "pygments_lexer": "ipython3",
   "version": "3.11.5"
  }
 },
 "nbformat": 4,
 "nbformat_minor": 5
}
