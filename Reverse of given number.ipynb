{
 "cells": [
  {
   "cell_type": "code",
   "execution_count": null,
   "id": "e567feba",
   "metadata": {},
   "outputs": [],
   "source": []
  },
  {
   "cell_type": "code",
   "execution_count": 22,
   "id": "254a89bd",
   "metadata": {},
   "outputs": [
    {
     "name": "stdout",
     "output_type": "stream",
     "text": [
      "Enter a number:-123\n",
      "321\n",
      "<class 'int'>\n"
     ]
    }
   ],
   "source": [
    "no=int(input(\"Enter a number:-\"))\n",
    "d=str(no)\n",
    "b=(d[::-1])\n",
    "c=(int(b))\n",
    "print(c)\n",
    "\n",
    "print(type(c))"
   ]
  },
  {
   "cell_type": "code",
   "execution_count": 1,
   "id": "a4913d62",
   "metadata": {},
   "outputs": [
    {
     "name": "stdout",
     "output_type": "stream",
     "text": [
      "Enter a number:-123\n",
      "321\n"
     ]
    }
   ],
   "source": [
    "no= int(input(\"Enter a number:-\"))\n",
    "rev=0\n",
    "while(no!=0):\n",
    "    mod=no%10\n",
    "    rev=(rev*10)+mod\n",
    "    no=no//10\n",
    "print(rev)"
   ]
  },
  {
   "cell_type": "raw",
   "id": "bcddd32b",
   "metadata": {},
   "source": [
    "no= int(input(\"Enter a number:-\"))\n",
    "for i in str(no):\n",
    "    c=int(i)\n",
    "    rev=(rev*10)+c\n",
    "    print(rev)"
   ]
  },
  {
   "cell_type": "code",
   "execution_count": null,
   "id": "867744c7",
   "metadata": {},
   "outputs": [],
   "source": []
  }
 ],
 "metadata": {
  "kernelspec": {
   "display_name": "Python 3 (ipykernel)",
   "language": "python",
   "name": "python3"
  },
  "language_info": {
   "codemirror_mode": {
    "name": "ipython",
    "version": 3
   },
   "file_extension": ".py",
   "mimetype": "text/x-python",
   "name": "python",
   "nbconvert_exporter": "python",
   "pygments_lexer": "ipython3",
   "version": "3.11.5"
  }
 },
 "nbformat": 4,
 "nbformat_minor": 5
}
