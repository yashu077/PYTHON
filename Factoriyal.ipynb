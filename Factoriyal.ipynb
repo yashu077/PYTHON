{
 "cells": [
  {
   "cell_type": "code",
   "execution_count": 11,
   "id": "78f87408",
   "metadata": {},
   "outputs": [
    {
     "name": "stdout",
     "output_type": "stream",
     "text": [
      "Enter a number to find factoriyal:-5\n",
      "Factoriyal of given 5 number= 120\n"
     ]
    }
   ],
   "source": [
    "no=int(input(\"Enter a number to find factoriyal:-\"))\n",
    "fact=1\n",
    "i=1\n",
    "while(i<=no):\n",
    "    fact=fact*i\n",
    "    i+=1\n",
    "print(\"Factoriyal of given\",no,\"number=\",fact)"
   ]
  },
  {
   "cell_type": "code",
   "execution_count": null,
   "id": "f54a539a",
   "metadata": {},
   "outputs": [],
   "source": []
  },
  {
   "cell_type": "code",
   "execution_count": 14,
   "id": "5cb4e6ea",
   "metadata": {},
   "outputs": [
    {
     "name": "stdout",
     "output_type": "stream",
     "text": [
      "Enter a number to find factoriyal of:-5\n",
      "120\n"
     ]
    }
   ],
   "source": [
    "no=int(input(\"Enter a number to find factoriyal of:-\"))\n",
    "fact=1\n",
    "for i in range(1,no+1,1):\n",
    "    fact=fact*i\n",
    "print(fact)\n"
   ]
  },
  {
   "cell_type": "code",
   "execution_count": null,
   "id": "9825717c",
   "metadata": {},
   "outputs": [],
   "source": []
  }
 ],
 "metadata": {
  "kernelspec": {
   "display_name": "Python 3 (ipykernel)",
   "language": "python",
   "name": "python3"
  },
  "language_info": {
   "codemirror_mode": {
    "name": "ipython",
    "version": 3
   },
   "file_extension": ".py",
   "mimetype": "text/x-python",
   "name": "python",
   "nbconvert_exporter": "python",
   "pygments_lexer": "ipython3",
   "version": "3.11.5"
  }
 },
 "nbformat": 4,
 "nbformat_minor": 5
}
