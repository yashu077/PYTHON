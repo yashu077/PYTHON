{
 "cells": [
  {
   "cell_type": "raw",
   "id": "aa31bee4",
   "metadata": {},
   "source": [
    "Set\n",
    "*No indexing\n",
    "*Not ittrable\n",
    "*Store data in unorderd form\n",
    "* eg- a={1,2,3,\"Four\",5,6,7,}\n",
    "*we can not ceate empty set --- it becomes dictonery\n",
    "            for creating empty set \n",
    "            a=set()\n",
    "*We can not create sdet within set\n",
    "*Data duplicy is not allowed (similler data more than one time is not printed)\n"
   ]
  },
  {
   "cell_type": "code",
   "execution_count": null,
   "id": "f4cacc32",
   "metadata": {},
   "outputs": [],
   "source": []
  },
  {
   "cell_type": "raw",
   "id": "08a48f8e",
   "metadata": {},
   "source": [
    "List is a collection which is ordered and changeable. Allows duplicate members.\n",
    "Tuple is a collection which is ordered and unchangeable. Allows duplicate members.\n",
    "Set is a collection which is unordered, unchangeable*, and unindexed. No duplicate members.\n",
    "Dictionary is a collection which is ordered** and changeable. No duplicate members."
   ]
  },
  {
   "cell_type": "raw",
   "id": "84682d1f",
   "metadata": {},
   "source": [
    "sMeathods in set\n",
    "\n",
    "add()---adds element at any position\n",
    "pop()--- removes random value \n",
    "remove()--- atlest one argument is needed (value to b deleted)\n",
    "discard()---work simillerly as remove meathod\n",
    "add()---to add new value to set at any position\n",
    "union()--- adds to sets\n",
    "intersect()--- intersection point (Common value in both set)\n",
    "difference()--- shous difference form one to second\n",
    "update()--- update datat in ittrable form (only string)--- eg--\n",
    "            update(\"yash\")-----\"y\",\"a\",\"s\",\"h\"\n"
   ]
  },
  {
   "cell_type": "raw",
   "id": "067227bc",
   "metadata": {},
   "source": [
    "***********************In**************************\n",
    "Method\t               Description\n",
    "add()\t                          Adds an element to the set\n",
    "\n",
    "clear()\t                          Removes all the elements from the set\n",
    "\n",
    "copy()\t                          Returns a copy of the set\n",
    "\n",
    "difference()\t                  Returns a set containing the difference between two or more sets\n",
    "\n",
    "difference_update()\t              Removes the items in this set that are also included in another,                                       specified set\n",
    "\n",
    "discard()\t                      Remove the specified item\n",
    "\n",
    "intersection()\t                  Returns a set, that is the intersection of two or more sets\n",
    "\n",
    "intersection_update()\t          Removes the items in this set that are not present in other,                                           specified set(s)\n",
    "\n",
    "isdisjoint()\t                  Returns whether two sets have a intersection or not\n",
    "\n",
    "issubset()\t                      Returns whether another set contains this set or not\n",
    "\n",
    "issuperset()\t                  Returns whether this set contains another set or not\n",
    "\n",
    "pop()\t                          Removes an element from the set\n",
    "\n",
    "remove()\t                      Removes the specified element\n",
    "\n",
    "symmetric_difference()\t          Returns a set with the symmetric differences of two sets\n",
    "\n",
    "symmetric_difference_update()\t  inserts the symmetric differences from this set and another\n",
    "\n",
    "union()\t                          Return a set containing the union of sets\n",
    "\n",
    "update()\t                      Update the set with another set, or any other iterable"
   ]
  },
  {
   "cell_type": "code",
   "execution_count": 14,
   "id": "40f638d7",
   "metadata": {},
   "outputs": [
    {
     "name": "stdout",
     "output_type": "stream",
     "text": [
      "<class 'dict'>\n"
     ]
    }
   ],
   "source": [
    "#we can not create empty set dirctely\n",
    "x={}\n",
    "print(type(x))"
   ]
  },
  {
   "cell_type": "code",
   "execution_count": 15,
   "id": "8ca071fa",
   "metadata": {},
   "outputs": [
    {
     "name": "stdout",
     "output_type": "stream",
     "text": [
      "<class 'set'>\n"
     ]
    }
   ],
   "source": [
    "#we can create empty set like\n",
    "x=set()\n",
    "print(type(x))"
   ]
  },
  {
   "cell_type": "markdown",
   "id": "a8a807c2",
   "metadata": {},
   "source": [
    "# Add---Adds an element to the set"
   ]
  },
  {
   "cell_type": "code",
   "execution_count": 8,
   "id": "226a7094",
   "metadata": {},
   "outputs": [
    {
     "name": "stdout",
     "output_type": "stream",
     "text": [
      "{'bawne', 'veer', 'yash'}\n",
      "<class 'set'>\n"
     ]
    }
   ],
   "source": [
    "a={\"yash\",\"veer\",\"bawne\"}\n",
    "print(a)\n",
    "print(type(a))"
   ]
  },
  {
   "cell_type": "code",
   "execution_count": 9,
   "id": "8b450cf0",
   "metadata": {},
   "outputs": [
    {
     "name": "stdout",
     "output_type": "stream",
     "text": [
      "{'bawne', 'veer', 'yash', 'aanshi'}\n"
     ]
    }
   ],
   "source": [
    "a.add(\"aanshi\")\n",
    "print(a)"
   ]
  },
  {
   "cell_type": "code",
   "execution_count": 10,
   "id": "07c9dd82",
   "metadata": {},
   "outputs": [
    {
     "name": "stdout",
     "output_type": "stream",
     "text": [
      "{'veer', 'aanshi', 'bawne', 'yash', 143}\n"
     ]
    }
   ],
   "source": [
    "a.add(143)\n",
    "print(a)"
   ]
  },
  {
   "cell_type": "markdown",
   "id": "6a99a9e4",
   "metadata": {},
   "source": [
    "# Clear---Removes all the elements from the set"
   ]
  },
  {
   "cell_type": "code",
   "execution_count": 11,
   "id": "50beb143",
   "metadata": {},
   "outputs": [
    {
     "name": "stdout",
     "output_type": "stream",
     "text": [
      "{'bawne', 'veer', 'yash'}\n"
     ]
    }
   ],
   "source": [
    "a={\"yash\",\"veer\",\"bawne\"}\n",
    "print(a)"
   ]
  },
  {
   "cell_type": "code",
   "execution_count": 12,
   "id": "dd8a1f24",
   "metadata": {},
   "outputs": [
    {
     "name": "stdout",
     "output_type": "stream",
     "text": [
      "set()\n"
     ]
    }
   ],
   "source": [
    "a.clear()\n",
    "print(a)"
   ]
  },
  {
   "cell_type": "markdown",
   "id": "1084b5c0",
   "metadata": {},
   "source": [
    "# Copy---Returns a copy of the set"
   ]
  },
  {
   "cell_type": "code",
   "execution_count": 16,
   "id": "384c743d",
   "metadata": {},
   "outputs": [
    {
     "name": "stdout",
     "output_type": "stream",
     "text": [
      "{'bawne', 'veer', 'yash'}\n"
     ]
    }
   ],
   "source": [
    "a={\"yash\",\"veer\",\"bawne\"}\n",
    "print(a)"
   ]
  },
  {
   "cell_type": "code",
   "execution_count": 19,
   "id": "ffa2b6a4",
   "metadata": {},
   "outputs": [
    {
     "name": "stdout",
     "output_type": "stream",
     "text": [
      "{'bawne', 'veer', 'yash'}\n"
     ]
    }
   ],
   "source": [
    "b=a\n",
    "print(b)"
   ]
  },
  {
   "cell_type": "code",
   "execution_count": 22,
   "id": "57ebfa8c",
   "metadata": {},
   "outputs": [
    {
     "name": "stdout",
     "output_type": "stream",
     "text": [
      "{'bawne', 'veer', 'yash'}\n"
     ]
    }
   ],
   "source": [
    "c=a.copy()\n",
    "print(c)"
   ]
  },
  {
   "cell_type": "markdown",
   "id": "2e5618cf",
   "metadata": {},
   "source": [
    "# difference---Returns a set containing the difference between two or more sets"
   ]
  },
  {
   "cell_type": "code",
   "execution_count": 27,
   "id": "73ec92d2",
   "metadata": {},
   "outputs": [
    {
     "name": "stdout",
     "output_type": "stream",
     "text": [
      "a= {'bawne', 'veer', 123, 'yash'}\n",
      "b= {'jain', 'aasnhi', 'yash'}\n"
     ]
    }
   ],
   "source": [
    "a={\"yash\",\"veer\",\"bawne\",123}\n",
    "print(\"a=\",a)\n",
    "b={\"aasnhi\",\"jain\",\"yash\"}\n",
    "print(\"b=\",b)"
   ]
  },
  {
   "cell_type": "code",
   "execution_count": 28,
   "id": "0b3caf13",
   "metadata": {},
   "outputs": [
    {
     "name": "stdout",
     "output_type": "stream",
     "text": [
      "{'bawne', 'veer', 123}\n"
     ]
    }
   ],
   "source": [
    "print(a.difference(b))"
   ]
  },
  {
   "cell_type": "code",
   "execution_count": 29,
   "id": "144d2925",
   "metadata": {},
   "outputs": [
    {
     "name": "stdout",
     "output_type": "stream",
     "text": [
      "{'jain', 'aasnhi'}\n"
     ]
    }
   ],
   "source": [
    "print(b.difference(a))"
   ]
  },
  {
   "cell_type": "markdown",
   "id": "18d3f05c",
   "metadata": {},
   "source": [
    "# difference_update---Removes the items in this set that are also included in another,  specified set"
   ]
  },
  {
   "cell_type": "code",
   "execution_count": null,
   "id": "db382b4f",
   "metadata": {},
   "outputs": [],
   "source": [
    "a={\"yash\",\"veer\",\"bawne\",123}\n",
    "print(\"a=\",a)\n",
    "b={\"aasnhi\",\"jain\",\"yash\"}\n",
    "print(\"b=\",b)"
   ]
  },
  {
   "cell_type": "code",
   "execution_count": 32,
   "id": "f0cee39d",
   "metadata": {},
   "outputs": [
    {
     "name": "stdout",
     "output_type": "stream",
     "text": [
      "None\n"
     ]
    }
   ],
   "source": [
    "print(b.difference_update(a))"
   ]
  },
  {
   "cell_type": "markdown",
   "id": "f6e3d934",
   "metadata": {},
   "source": [
    "# discard---Remove the specified item"
   ]
  },
  {
   "cell_type": "code",
   "execution_count": 34,
   "id": "e790b528",
   "metadata": {},
   "outputs": [
    {
     "name": "stdout",
     "output_type": "stream",
     "text": [
      "a= {'bawne', 'veer', 123, 'yash'}\n"
     ]
    }
   ],
   "source": [
    "a={\"yash\",\"veer\",\"bawne\",123}\n",
    "print(\"a=\",a)"
   ]
  },
  {
   "cell_type": "code",
   "execution_count": 39,
   "id": "d9fcc8a2",
   "metadata": {},
   "outputs": [
    {
     "name": "stdout",
     "output_type": "stream",
     "text": [
      "{'bawne', 'veer', 'yash'}\n"
     ]
    }
   ],
   "source": [
    "a.discard(123)\n",
    "print(a)"
   ]
  },
  {
   "cell_type": "code",
   "execution_count": 40,
   "id": "419de03d",
   "metadata": {},
   "outputs": [
    {
     "name": "stdout",
     "output_type": "stream",
     "text": [
      "{'bawne', 'yash'}\n"
     ]
    }
   ],
   "source": [
    "a.discard(\"veer\")\n",
    "print(a)"
   ]
  },
  {
   "cell_type": "markdown",
   "id": "ff128599",
   "metadata": {},
   "source": [
    "# intersection---Returns a set, that is the intersection of two or more sets"
   ]
  },
  {
   "cell_type": "code",
   "execution_count": 44,
   "id": "b289024d",
   "metadata": {},
   "outputs": [
    {
     "name": "stdout",
     "output_type": "stream",
     "text": [
      "a= {'bawne', 'veer', 123, 'yash'}\n",
      "b= {849, 578, 'jain', 'aasnhi', 123, 746, 'yash'}\n"
     ]
    }
   ],
   "source": [
    "a={\"yash\",\"veer\",\"bawne\",123}\n",
    "print(\"a=\",a)\n",
    "b={\"aasnhi\",\"jain\",\"yash\",123,746,849,578}\n",
    "print(\"b=\",b)"
   ]
  },
  {
   "cell_type": "code",
   "execution_count": 45,
   "id": "291162c2",
   "metadata": {},
   "outputs": [
    {
     "name": "stdout",
     "output_type": "stream",
     "text": [
      "{123, 'yash'}\n"
     ]
    }
   ],
   "source": [
    "print(a.intersection(b))"
   ]
  },
  {
   "cell_type": "code",
   "execution_count": 46,
   "id": "88df080f",
   "metadata": {},
   "outputs": [
    {
     "name": "stdout",
     "output_type": "stream",
     "text": [
      "{123, 'yash'}\n"
     ]
    }
   ],
   "source": [
    "print(b.intersection(a))"
   ]
  },
  {
   "cell_type": "markdown",
   "id": "dc42daad",
   "metadata": {},
   "source": [
    "# intersection_update---Removes the items in this set that are not present in other, specified set(s)"
   ]
  },
  {
   "cell_type": "code",
   "execution_count": 51,
   "id": "3303b00c",
   "metadata": {},
   "outputs": [
    {
     "name": "stdout",
     "output_type": "stream",
     "text": [
      "a= {'bawne', 'veer', 123, 'yash'}\n",
      "b= {849, 578, 'jain', 'aasnhi', 123, 746, 'yash'}\n"
     ]
    }
   ],
   "source": [
    "a={\"yash\",\"veer\",\"bawne\",123}\n",
    "print(\"a=\",a)\n",
    "b={\"aasnhi\",\"jain\",\"yash\",123,746,849,578}\n",
    "print(\"b=\",b)"
   ]
  },
  {
   "cell_type": "code",
   "execution_count": 53,
   "id": "bc254e67",
   "metadata": {},
   "outputs": [
    {
     "name": "stdout",
     "output_type": "stream",
     "text": [
      "{123, 'yash'}\n"
     ]
    }
   ],
   "source": [
    "a.intersection_update(b)\n",
    "print(a)"
   ]
  },
  {
   "cell_type": "code",
   "execution_count": 54,
   "id": "883da0d3",
   "metadata": {},
   "outputs": [
    {
     "name": "stdout",
     "output_type": "stream",
     "text": [
      "{123, 'yash'}\n"
     ]
    }
   ],
   "source": [
    "b.intersection_update(a)\n",
    "print(b)"
   ]
  },
  {
   "cell_type": "markdown",
   "id": "1a45eabd",
   "metadata": {},
   "source": [
    "# isdisjoint---Returns whether two sets have a intersection or not"
   ]
  },
  {
   "cell_type": "code",
   "execution_count": 1,
   "id": "63495a61",
   "metadata": {},
   "outputs": [
    {
     "name": "stdout",
     "output_type": "stream",
     "text": [
      "a= {'veer', 123, 'yash', 'bawne'}\n",
      "b= {'jain', 849, 578, 'yah', 'aasnhi', 23, 746}\n"
     ]
    }
   ],
   "source": [
    "a={\"yash\",\"veer\",\"bawne\",123}\n",
    "print(\"a=\",a)\n",
    "b={\"aasnhi\",\"jain\",\"yah\",23,746,849,578}\n",
    "print(\"b=\",b)"
   ]
  },
  {
   "cell_type": "code",
   "execution_count": 2,
   "id": "dadc302a",
   "metadata": {},
   "outputs": [
    {
     "name": "stdout",
     "output_type": "stream",
     "text": [
      "True\n"
     ]
    }
   ],
   "source": [
    "print(a.isdisjoint(b))"
   ]
  },
  {
   "cell_type": "code",
   "execution_count": 3,
   "id": "af48534f",
   "metadata": {},
   "outputs": [
    {
     "name": "stdout",
     "output_type": "stream",
     "text": [
      "a= {123, 'veer', 'yash', 'bawne'}\n",
      "b= {'jain', 849, 578, 'aasnhi', 23, 746, 'yash'}\n"
     ]
    }
   ],
   "source": [
    "a={\"yash\",\"veer\",\"bawne\",123}\n",
    "print(\"a=\",a)\n",
    "b={\"aasnhi\",\"jain\",\"yash\",23,746,849,578}\n",
    "print(\"b=\",b)"
   ]
  },
  {
   "cell_type": "code",
   "execution_count": 4,
   "id": "5340b9ae",
   "metadata": {},
   "outputs": [
    {
     "name": "stdout",
     "output_type": "stream",
     "text": [
      "False\n"
     ]
    }
   ],
   "source": [
    "print(a.isdisjoint(b)) "
   ]
  },
  {
   "cell_type": "markdown",
   "id": "1e473054",
   "metadata": {},
   "source": [
    "# issubset---Returns whether another set contains this set or not"
   ]
  },
  {
   "cell_type": "code",
   "execution_count": 9,
   "id": "0727d472",
   "metadata": {},
   "outputs": [
    {
     "name": "stdout",
     "output_type": "stream",
     "text": [
      "x= {'b', 'a', 'c'}\n",
      "y= {'b', 'c', 'e', 'd', 'a', 'f'}\n"
     ]
    }
   ],
   "source": [
    "x = {\"a\", \"b\", \"c\"}\n",
    "y = {\"f\", \"e\", \"d\", \"c\", \"b\", \"a\"}\n",
    "print(\"x=\",x)\n",
    "print(\"y=\",y)"
   ]
  },
  {
   "cell_type": "code",
   "execution_count": 11,
   "id": "0f958071",
   "metadata": {},
   "outputs": [
    {
     "name": "stdout",
     "output_type": "stream",
     "text": [
      "True\n"
     ]
    }
   ],
   "source": [
    "z=x.issubset(y)\n",
    "print(z)"
   ]
  },
  {
   "cell_type": "code",
   "execution_count": 12,
   "id": "87854b7c",
   "metadata": {},
   "outputs": [
    {
     "name": "stdout",
     "output_type": "stream",
     "text": [
      "x= {'b', 'a', 'c'}\n",
      "y= {'e', 'd', 'f'}\n"
     ]
    }
   ],
   "source": [
    "x = {\"a\", \"b\", \"c\"}\n",
    "y = {\"f\", \"e\", \"d\", }\n",
    "print(\"x=\",x)\n",
    "print(\"y=\",y)"
   ]
  },
  {
   "cell_type": "code",
   "execution_count": 13,
   "id": "8054d3de",
   "metadata": {},
   "outputs": [
    {
     "name": "stdout",
     "output_type": "stream",
     "text": [
      "False\n"
     ]
    }
   ],
   "source": [
    "z=x.issubset(y)\n",
    "print(z)"
   ]
  },
  {
   "cell_type": "markdown",
   "id": "faa5cd6e",
   "metadata": {},
   "source": [
    "# issuperset---Returns whether this set contains another set or not"
   ]
  },
  {
   "cell_type": "code",
   "execution_count": null,
   "id": "4dc74ae7",
   "metadata": {},
   "outputs": [],
   "source": [
    "x = {\"a\", \"b\", \"c\"}\n",
    "y = {\"f\", \"e\", \"d\", \"c\", \"b\", \"a\"}\n",
    "print(\"x=\",x)\n",
    "print(\"y=\",y)"
   ]
  },
  {
   "cell_type": "code",
   "execution_count": 15,
   "id": "ff09d058",
   "metadata": {},
   "outputs": [
    {
     "name": "stdout",
     "output_type": "stream",
     "text": [
      "False\n"
     ]
    }
   ],
   "source": [
    "z=x.issuperset(y)\n",
    "print(z)"
   ]
  },
  {
   "cell_type": "code",
   "execution_count": 16,
   "id": "aa5e442d",
   "metadata": {},
   "outputs": [
    {
     "name": "stdout",
     "output_type": "stream",
     "text": [
      "x= {'b', 'a', 'c'}\n",
      "y= {'e', 'd', 'f'}\n"
     ]
    }
   ],
   "source": [
    "x = {\"a\", \"b\", \"c\"}\n",
    "y = {\"f\", \"e\", \"d\"}\n",
    "print(\"x=\",x)\n",
    "print(\"y=\",y)"
   ]
  },
  {
   "cell_type": "code",
   "execution_count": 17,
   "id": "8c04d326",
   "metadata": {},
   "outputs": [
    {
     "name": "stdout",
     "output_type": "stream",
     "text": [
      "False\n"
     ]
    }
   ],
   "source": [
    "z=x.issuperset(y)\n",
    "print(z)"
   ]
  },
  {
   "cell_type": "markdown",
   "id": "07887e0d",
   "metadata": {},
   "source": [
    "# pop---Removes an element from the set"
   ]
  },
  {
   "cell_type": "code",
   "execution_count": 18,
   "id": "f795af2b",
   "metadata": {},
   "outputs": [
    {
     "name": "stdout",
     "output_type": "stream",
     "text": [
      "q= {'arpan', 'rzi', 'veer', 'yash', 'aanshi'}\n"
     ]
    }
   ],
   "source": [
    "q={\"yash\",\"veer\",\"aanshi\",\"rzi\",\"arpan\"}\n",
    "print(\"q=\",q)"
   ]
  },
  {
   "cell_type": "code",
   "execution_count": 19,
   "id": "a48ac1a5",
   "metadata": {},
   "outputs": [
    {
     "name": "stdout",
     "output_type": "stream",
     "text": [
      "{'rzi', 'veer', 'yash', 'aanshi'}\n"
     ]
    }
   ],
   "source": [
    "q.pop()\n",
    "print(q)"
   ]
  },
  {
   "cell_type": "code",
   "execution_count": 20,
   "id": "c92f6818",
   "metadata": {},
   "outputs": [
    {
     "ename": "TypeError",
     "evalue": "set.pop() takes no arguments (1 given)",
     "output_type": "error",
     "traceback": [
      "\u001b[1;31m---------------------------------------------------------------------------\u001b[0m",
      "\u001b[1;31mTypeError\u001b[0m                                 Traceback (most recent call last)",
      "Cell \u001b[1;32mIn[20], line 1\u001b[0m\n\u001b[1;32m----> 1\u001b[0m q\u001b[38;5;241m.\u001b[39mpop(\u001b[38;5;124m\"\u001b[39m\u001b[38;5;124mveer\u001b[39m\u001b[38;5;124m\"\u001b[39m)\n\u001b[0;32m      2\u001b[0m \u001b[38;5;28mprint\u001b[39m(q)\n",
      "\u001b[1;31mTypeError\u001b[0m: set.pop() takes no arguments (1 given)"
     ]
    }
   ],
   "source": [
    "q.pop(\"veer\")\n",
    "print(q)"
   ]
  },
  {
   "cell_type": "markdown",
   "id": "9bba30b1",
   "metadata": {},
   "source": [
    "# remove---Removes the specified element"
   ]
  },
  {
   "cell_type": "code",
   "execution_count": 21,
   "id": "e991e162",
   "metadata": {},
   "outputs": [
    {
     "name": "stdout",
     "output_type": "stream",
     "text": [
      "q= {'arpan', 'rzi', 'veer', 'yash', 'aanshi'}\n"
     ]
    }
   ],
   "source": [
    "q={\"yash\",\"veer\",\"aanshi\",\"rzi\",\"arpan\"}\n",
    "print(\"q=\",q)"
   ]
  },
  {
   "cell_type": "code",
   "execution_count": 22,
   "id": "573f3fd1",
   "metadata": {},
   "outputs": [
    {
     "ename": "TypeError",
     "evalue": "set.remove() takes exactly one argument (0 given)",
     "output_type": "error",
     "traceback": [
      "\u001b[1;31m---------------------------------------------------------------------------\u001b[0m",
      "\u001b[1;31mTypeError\u001b[0m                                 Traceback (most recent call last)",
      "Cell \u001b[1;32mIn[22], line 1\u001b[0m\n\u001b[1;32m----> 1\u001b[0m q\u001b[38;5;241m.\u001b[39mremove()\n\u001b[0;32m      2\u001b[0m \u001b[38;5;28mprint\u001b[39m(q)\n",
      "\u001b[1;31mTypeError\u001b[0m: set.remove() takes exactly one argument (0 given)"
     ]
    }
   ],
   "source": [
    "q.remove()\n",
    "print(q)"
   ]
  },
  {
   "cell_type": "code",
   "execution_count": 23,
   "id": "be3586f2",
   "metadata": {},
   "outputs": [
    {
     "name": "stdout",
     "output_type": "stream",
     "text": [
      "{'arpan', 'veer', 'yash', 'aanshi'}\n"
     ]
    }
   ],
   "source": [
    "q.remove(\"rzi\")\n",
    "print(q)"
   ]
  },
  {
   "cell_type": "code",
   "execution_count": 24,
   "id": "8a6728b3",
   "metadata": {},
   "outputs": [
    {
     "name": "stdout",
     "output_type": "stream",
     "text": [
      "None\n"
     ]
    }
   ],
   "source": [
    "print(q.remove(\"yash\"))"
   ]
  },
  {
   "cell_type": "markdown",
   "id": "a1240f45",
   "metadata": {},
   "source": [
    "# symmetric_difference---Returns a set with the symmetric differences of two sets"
   ]
  },
  {
   "cell_type": "code",
   "execution_count": 25,
   "id": "9aba4fc9",
   "metadata": {},
   "outputs": [
    {
     "name": "stdout",
     "output_type": "stream",
     "text": [
      "c= {'bb', 'dd', 'aa', 'cc'}\n",
      "v= {'bb', 'll', 'aa', 'qq'}\n"
     ]
    }
   ],
   "source": [
    "c={\"aa\",\"bb\",\"cc\",\"dd\"}\n",
    "v={\"bb\",\"aa\",\"qq\",\"ll\"}\n",
    "print(\"c=\",c)\n",
    "print(\"v=\",v)\n"
   ]
  },
  {
   "cell_type": "code",
   "execution_count": 27,
   "id": "0604ae32",
   "metadata": {},
   "outputs": [
    {
     "name": "stdout",
     "output_type": "stream",
     "text": [
      "{'ll', 'qq', 'dd', 'cc'}\n"
     ]
    }
   ],
   "source": [
    "n=c.symmetric_difference(v)\n",
    "print(n)"
   ]
  },
  {
   "cell_type": "markdown",
   "id": "85d3d346",
   "metadata": {},
   "source": [
    "# symmetric_difference_update---inserts the symmetric differences from this set and another"
   ]
  },
  {
   "cell_type": "code",
   "execution_count": 28,
   "id": "6d4b293a",
   "metadata": {},
   "outputs": [
    {
     "name": "stdout",
     "output_type": "stream",
     "text": [
      "x= {'cherry', 'apple', 'banana'}\n",
      "y= {'microsoft', 'google', 'apple'}\n"
     ]
    }
   ],
   "source": [
    "x = {\"apple\", \"banana\", \"cherry\"}\n",
    "y = {\"google\", \"microsoft\", \"apple\"}\n",
    "print(\"x=\",x)\n",
    "print(\"y=\",y)\n"
   ]
  },
  {
   "cell_type": "code",
   "execution_count": 29,
   "id": "23cb5c71",
   "metadata": {},
   "outputs": [
    {
     "name": "stdout",
     "output_type": "stream",
     "text": [
      "{'google', 'banana', 'microsoft', 'cherry'}\n"
     ]
    }
   ],
   "source": [
    "x.symmetric_difference_update(y)\n",
    "print(x)"
   ]
  },
  {
   "cell_type": "markdown",
   "id": "193b0e3c",
   "metadata": {},
   "source": [
    "# union---Return a set containing the union of sets"
   ]
  },
  {
   "cell_type": "code",
   "execution_count": 30,
   "id": "b326d7fb",
   "metadata": {},
   "outputs": [
    {
     "name": "stdout",
     "output_type": "stream",
     "text": [
      "o= {'d', 'b', 'a', 'c'}\n",
      "p= {'c', 'y', 'd', 'r', 'u'}\n"
     ]
    }
   ],
   "source": [
    "o={\"a\",\"b\",\"c\",\"d\"}\n",
    "p={\"u\",\"y\",\"r\",\"c\",\"d\"}\n",
    "print(\"o=\",o)\n",
    "print(\"p=\",p)"
   ]
  },
  {
   "cell_type": "code",
   "execution_count": 32,
   "id": "845f8233",
   "metadata": {},
   "outputs": [
    {
     "name": "stdout",
     "output_type": "stream",
     "text": [
      "{'b', 'a', 'c', 'y', 'd', 'r', 'u'}\n"
     ]
    }
   ],
   "source": [
    "i=o.union(p)\n",
    "print(i)"
   ]
  },
  {
   "cell_type": "code",
   "execution_count": 35,
   "id": "e1c062ac",
   "metadata": {},
   "outputs": [
    {
     "name": "stdout",
     "output_type": "stream",
     "text": [
      "x= {'cherry', 'banana', 'apple'}\n",
      "y= {'microsoft', 'google', 'apple'}\n",
      "union= {'google', 'banana', 'cherry', 'microsoft', 'apple'}\n"
     ]
    }
   ],
   "source": [
    "x = {\"apple\", \"banana\", \"cherry\"}\n",
    "y = {\"google\", \"microsoft\", \"apple\"}\n",
    "print(\"x=\",x)\n",
    "print(\"y=\",y)\n",
    "\n",
    "z=x.union(y)\n",
    "print(\"union=\",z)"
   ]
  },
  {
   "cell_type": "markdown",
   "id": "821d957d",
   "metadata": {},
   "source": [
    "# update---Update the set with another set, or any other iterable\n"
   ]
  },
  {
   "cell_type": "code",
   "execution_count": 36,
   "id": "25614d3f",
   "metadata": {},
   "outputs": [
    {
     "name": "stdout",
     "output_type": "stream",
     "text": [
      "o= {'d', 'b', 'a', 'c'}\n",
      "p= {'c', 'y', 'd', 'r', 'u'}\n"
     ]
    }
   ],
   "source": [
    "o={\"a\",\"b\",\"c\",\"d\"}\n",
    "p={\"u\",\"y\",\"r\",\"c\",\"d\"}\n",
    "print(\"o=\",o)\n",
    "print(\"p=\",p)"
   ]
  },
  {
   "cell_type": "code",
   "execution_count": 37,
   "id": "61c15687",
   "metadata": {},
   "outputs": [],
   "source": [
    "o.update(p)"
   ]
  },
  {
   "cell_type": "code",
   "execution_count": 38,
   "id": "926d2b88",
   "metadata": {},
   "outputs": [
    {
     "name": "stdout",
     "output_type": "stream",
     "text": [
      "{'b', 'a', 'c', 'y', 'd', 'r', 'u'}\n"
     ]
    }
   ],
   "source": [
    "print(o)"
   ]
  },
  {
   "cell_type": "code",
   "execution_count": null,
   "id": "89d004f3",
   "metadata": {},
   "outputs": [],
   "source": []
  }
 ],
 "metadata": {
  "kernelspec": {
   "display_name": "Python 3 (ipykernel)",
   "language": "python",
   "name": "python3"
  },
  "language_info": {
   "codemirror_mode": {
    "name": "ipython",
    "version": 3
   },
   "file_extension": ".py",
   "mimetype": "text/x-python",
   "name": "python",
   "nbconvert_exporter": "python",
   "pygments_lexer": "ipython3",
   "version": "3.11.5"
  }
 },
 "nbformat": 4,
 "nbformat_minor": 5
}
