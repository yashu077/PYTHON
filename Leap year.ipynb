{
 "cells": [
  {
   "cell_type": "raw",
   "id": "ac37be00",
   "metadata": {},
   "source": [
    "# Leap Year "
   ]
  },
  {
   "cell_type": "raw",
   "id": "cd350d67",
   "metadata": {},
   "source": []
  },
  {
   "cell_type": "code",
   "execution_count": 4,
   "id": "0589b63d",
   "metadata": {},
   "outputs": [
    {
     "name": "stdout",
     "output_type": "stream",
     "text": [
      "The entered year is an leap year\n"
     ]
    }
   ],
   "source": [
    "year=2024\n",
    "if(year%400==0):\n",
    "    print(\"The entered year is an leap year\")\n",
    "elif(year%100==0):\n",
    "     print(\"The entered year is an leap year\")\n",
    "elif(year%4==0):\n",
    "     print(\"The entered year is an leap year\")\n",
    "else:\n",
    "    print(\"The entered year is not an leap year\")"
   ]
  },
  {
   "cell_type": "code",
   "execution_count": null,
   "id": "1c4b5083",
   "metadata": {},
   "outputs": [],
   "source": []
  }
 ],
 "metadata": {
  "kernelspec": {
   "display_name": "Python 3 (ipykernel)",
   "language": "python",
   "name": "python3"
  },
  "language_info": {
   "codemirror_mode": {
    "name": "ipython",
    "version": 3
   },
   "file_extension": ".py",
   "mimetype": "text/x-python",
   "name": "python",
   "nbconvert_exporter": "python",
   "pygments_lexer": "ipython3",
   "version": "3.11.5"
  }
 },
 "nbformat": 4,
 "nbformat_minor": 5
}
