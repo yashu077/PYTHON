{
 "cells": [
  {
   "cell_type": "markdown",
   "id": "592730ed",
   "metadata": {},
   "source": [
    "# Tuple"
   ]
  },
  {
   "cell_type": "raw",
   "id": "0820adf5",
   "metadata": {},
   "source": [
    "tuple is an immutable datatype\n",
    "eg- a=(1,2,3,\"yash\",\"rzi\",4,5,6,)\n",
    "contains all features of list but immutable unlike list\n",
    "\n",
    "\n",
    "Meathod in tuple\n",
    "count() --- tells the repeted no of values in tuple \n",
    "index(value) --- tells the index number of given value "
   ]
  },
  {
   "cell_type": "raw",
   "id": "995a5de2",
   "metadata": {},
   "source": [
    "Method                          Description\n",
    "\n",
    "count()                         Returns the number of times a specified value occurs in a tuple\n",
    "\n",
    "index()                         Searches the tuple for a specified value and returns the position of                                   where it was found"
   ]
  },
  {
   "cell_type": "markdown",
   "id": "1aa5fef6",
   "metadata": {},
   "source": [
    "# count---Returns the number of times a specified value occurs in a tuple"
   ]
  },
  {
   "cell_type": "code",
   "execution_count": 3,
   "id": "09217e8c",
   "metadata": {},
   "outputs": [
    {
     "name": "stdout",
     "output_type": "stream",
     "text": [
      "(1, 3, 7, 8, 7, 5, 4, 6, 8, 5, 5, 5, 5, 5)\n"
     ]
    }
   ],
   "source": [
    "a= (1, 3, 7, 8, 7, 5, 4, 6, 8, 5,5,5,5,5,)\n",
    "print(a)"
   ]
  },
  {
   "cell_type": "code",
   "execution_count": 4,
   "id": "ade6eda5",
   "metadata": {},
   "outputs": [
    {
     "name": "stdout",
     "output_type": "stream",
     "text": [
      "6\n"
     ]
    }
   ],
   "source": [
    "print(a.count(5))"
   ]
  },
  {
   "cell_type": "code",
   "execution_count": 6,
   "id": "8849441d",
   "metadata": {},
   "outputs": [
    {
     "name": "stdout",
     "output_type": "stream",
     "text": [
      "2\n"
     ]
    }
   ],
   "source": [
    "x=a.count(7)\n",
    "print(x)"
   ]
  },
  {
   "cell_type": "markdown",
   "id": "e463ed1c",
   "metadata": {},
   "source": [
    "# index---Searches the tuple for a specified value and returns the position of where it was found"
   ]
  },
  {
   "cell_type": "code",
   "execution_count": 7,
   "id": "8b68d2af",
   "metadata": {},
   "outputs": [
    {
     "name": "stdout",
     "output_type": "stream",
     "text": [
      "(1, 3, 7, 8, 7, 5, 4, 6, 8, 5, 5, 5, 5, 5)\n"
     ]
    }
   ],
   "source": [
    "a= (1, 3, 7, 8, 7, 5, 4, 6, 8, 5,5,5,5,5,)\n",
    "print(a)"
   ]
  },
  {
   "cell_type": "code",
   "execution_count": 8,
   "id": "314a4f6b",
   "metadata": {},
   "outputs": [
    {
     "name": "stdout",
     "output_type": "stream",
     "text": [
      "5\n"
     ]
    }
   ],
   "source": [
    "print(a.index(5))"
   ]
  },
  {
   "cell_type": "code",
   "execution_count": 9,
   "id": "23a9970c",
   "metadata": {},
   "outputs": [
    {
     "name": "stdout",
     "output_type": "stream",
     "text": [
      "0\n"
     ]
    }
   ],
   "source": [
    "x=a.index(1)\n",
    "print(x)"
   ]
  },
  {
   "cell_type": "code",
   "execution_count": null,
   "id": "b2f0bea1",
   "metadata": {},
   "outputs": [],
   "source": []
  }
 ],
 "metadata": {
  "kernelspec": {
   "display_name": "Python 3 (ipykernel)",
   "language": "python",
   "name": "python3"
  },
  "language_info": {
   "codemirror_mode": {
    "name": "ipython",
    "version": 3
   },
   "file_extension": ".py",
   "mimetype": "text/x-python",
   "name": "python",
   "nbconvert_exporter": "python",
   "pygments_lexer": "ipython3",
   "version": "3.11.5"
  }
 },
 "nbformat": 4,
 "nbformat_minor": 5
}
