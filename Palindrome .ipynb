{
 "cells": [
  {
   "cell_type": "code",
   "execution_count": 8,
   "id": "2cb7b767",
   "metadata": {},
   "outputs": [
    {
     "name": "stdout",
     "output_type": "stream",
     "text": [
      "Enter aumber:-1234321\n",
      "1234321\n",
      "Palindrome number\n"
     ]
    }
   ],
   "source": [
    "a=int(input(\"Enter aumber:-\"))\n",
    "b=str(a)\n",
    "c=int(b[::-1])\n",
    "print(c)\n",
    "if(a==c):\n",
    "    print(\"Palindrome number\")\n",
    "else:\n",
    "    print(\"Non Palindrome number\")"
   ]
  },
  {
   "cell_type": "code",
   "execution_count": 11,
   "id": "792574e0",
   "metadata": {},
   "outputs": [
    {
     "name": "stdout",
     "output_type": "stream",
     "text": [
      "Enter a word:-madam\n",
      "Palindrome\n"
     ]
    }
   ],
   "source": [
    "a=input(\"Enter a word:-\")\n",
    "b=a[::-1]\n",
    "if(a==b):\n",
    "     print(\"Palindrome\")\n",
    "else:\n",
    "    print(\"Non Palindrome\")\n",
    "    "
   ]
  },
  {
   "cell_type": "code",
   "execution_count": null,
   "id": "6597c970",
   "metadata": {},
   "outputs": [],
   "source": []
  },
  {
   "cell_type": "code",
   "execution_count": null,
   "id": "21baae94",
   "metadata": {},
   "outputs": [],
   "source": []
  }
 ],
 "metadata": {
  "kernelspec": {
   "display_name": "Python 3 (ipykernel)",
   "language": "python",
   "name": "python3"
  },
  "language_info": {
   "codemirror_mode": {
    "name": "ipython",
    "version": 3
   },
   "file_extension": ".py",
   "mimetype": "text/x-python",
   "name": "python",
   "nbconvert_exporter": "python",
   "pygments_lexer": "ipython3",
   "version": "3.11.5"
  }
 },
 "nbformat": 4,
 "nbformat_minor": 5
}
