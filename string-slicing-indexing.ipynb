{
 "cells": [
  {
   "cell_type": "code",
   "execution_count": 1,
   "id": "367657b5",
   "metadata": {},
   "outputs": [],
   "source": [
    "str='yashveer-bawne'"
   ]
  },
  {
   "cell_type": "code",
   "execution_count": 2,
   "id": "3419f898",
   "metadata": {},
   "outputs": [
    {
     "name": "stdout",
     "output_type": "stream",
     "text": [
      "yashveer-bawne\n"
     ]
    }
   ],
   "source": [
    "print(str)"
   ]
  },
  {
   "cell_type": "code",
   "execution_count": 3,
   "id": "7111ae36",
   "metadata": {},
   "outputs": [
    {
     "name": "stdout",
     "output_type": "stream",
     "text": [
      "<class 'str'>\n"
     ]
    }
   ],
   "source": [
    "print(type(str))"
   ]
  },
  {
   "cell_type": "markdown",
   "id": "15c7eaea",
   "metadata": {},
   "source": [
    "#                indexing\n",
    "y  a  s  h  v  e  e  r  -  b  a  w  n  e\n",
    "0  1  2  3  4  5  6  7  8  9  10 11 12 13\n",
    "14 13 12 11 10 9  8  7  6  5  4  3  2  -1 -------all reverce indexing with negative sign"
   ]
  },
  {
   "cell_type": "code",
   "execution_count": 4,
   "id": "5e6f794e",
   "metadata": {},
   "outputs": [
    {
     "name": "stdout",
     "output_type": "stream",
     "text": [
      "y\n"
     ]
    }
   ],
   "source": [
    "print(str[0])"
   ]
  },
  {
   "cell_type": "code",
   "execution_count": 5,
   "id": "c310897a",
   "metadata": {},
   "outputs": [
    {
     "name": "stdout",
     "output_type": "stream",
     "text": [
      "a\n"
     ]
    }
   ],
   "source": [
    "print(str[1])"
   ]
  },
  {
   "cell_type": "code",
   "execution_count": 6,
   "id": "207c9329",
   "metadata": {},
   "outputs": [
    {
     "name": "stdout",
     "output_type": "stream",
     "text": [
      "s\n"
     ]
    }
   ],
   "source": [
    "print(str[2])"
   ]
  },
  {
   "cell_type": "code",
   "execution_count": 7,
   "id": "136fea91",
   "metadata": {},
   "outputs": [
    {
     "name": "stdout",
     "output_type": "stream",
     "text": [
      "h\n"
     ]
    }
   ],
   "source": [
    "print(str[3])"
   ]
  },
  {
   "cell_type": "code",
   "execution_count": 11,
   "id": "1438a33d",
   "metadata": {},
   "outputs": [
    {
     "name": "stdout",
     "output_type": "stream",
     "text": [
      "forword indexing:- r\n",
      "backword indexing:- r\n"
     ]
    }
   ],
   "source": [
    "print(\"forword indexing:-\",str[7])\n",
    "print(\"backword indexing:-\",str[-7])"
   ]
  },
  {
   "cell_type": "markdown",
   "id": "00d63830",
   "metadata": {},
   "source": [
    "print(str[x1:x2:x3])\n",
    "x1--- for forword indexing value\n",
    "x2--- for backword indexing value\n",
    "x3--- for jumping indexes \n",
    "\n"
   ]
  },
  {
   "cell_type": "code",
   "execution_count": 3,
   "id": "0c4e7ebb",
   "metadata": {},
   "outputs": [],
   "source": [
    "str1=\"yash\"\n"
   ]
  },
  {
   "cell_type": "code",
   "execution_count": 8,
   "id": "7d731f59",
   "metadata": {},
   "outputs": [
    {
     "name": "stdout",
     "output_type": "stream",
     "text": [
      "a\n"
     ]
    }
   ],
   "source": [
    "print(str1[1])"
   ]
  },
  {
   "cell_type": "code",
   "execution_count": 9,
   "id": "fc6a5b05",
   "metadata": {},
   "outputs": [
    {
     "name": "stdout",
     "output_type": "stream",
     "text": [
      "ya\n"
     ]
    }
   ],
   "source": [
    "print(str1[:2])"
   ]
  },
  {
   "cell_type": "code",
   "execution_count": 13,
   "id": "77bb3d56",
   "metadata": {},
   "outputs": [
    {
     "name": "stdout",
     "output_type": "stream",
     "text": [
      "y\n"
     ]
    }
   ],
   "source": [
    "print(str1[::4])"
   ]
  },
  {
   "cell_type": "code",
   "execution_count": 14,
   "id": "03b00f95",
   "metadata": {},
   "outputs": [
    {
     "name": "stdout",
     "output_type": "stream",
     "text": [
      "hsay\n"
     ]
    }
   ],
   "source": [
    "print(str1[::-1])"
   ]
  },
  {
   "cell_type": "code",
   "execution_count": null,
   "id": "e28a129c",
   "metadata": {},
   "outputs": [],
   "source": []
  }
 ],
 "metadata": {
  "kernelspec": {
   "display_name": "Python 3 (ipykernel)",
   "language": "python",
   "name": "python3"
  },
  "language_info": {
   "codemirror_mode": {
    "name": "ipython",
    "version": 3
   },
   "file_extension": ".py",
   "mimetype": "text/x-python",
   "name": "python",
   "nbconvert_exporter": "python",
   "pygments_lexer": "ipython3",
   "version": "3.11.5"
  }
 },
 "nbformat": 4,
 "nbformat_minor": 5
}
