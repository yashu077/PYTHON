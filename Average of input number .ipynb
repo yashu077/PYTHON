{
 "cells": [
  {
   "cell_type": "code",
   "execution_count": 3,
   "id": "bf7f4efd",
   "metadata": {},
   "outputs": [
    {
     "name": "stdout",
     "output_type": "stream",
     "text": [
      "Enter a range:-2\n",
      "Enter values:-1\n",
      "Enter values:-2\n",
      "Avrage =  1.5\n"
     ]
    }
   ],
   "source": [
    "a=int(input(\"Enter a range:-\"))\n",
    "i=1\n",
    "sum_1=0\n",
    "while(i<=a):\n",
    "    sum_1=sum_1+int(input(\"Enter values:-\"))\n",
    "    i=i+1\n",
    "avg=sum_1/a\n",
    "print(\"Avrage = \",avg)"
   ]
  },
  {
   "cell_type": "code",
   "execution_count": null,
   "id": "d47cd4bc",
   "metadata": {},
   "outputs": [],
   "source": []
  },
  {
   "cell_type": "code",
   "execution_count": 2,
   "id": "e7325bc0",
   "metadata": {},
   "outputs": [
    {
     "name": "stdout",
     "output_type": "stream",
     "text": [
      "Enter range:-2\n",
      "Enter values:-1\n",
      "Enter values:-2\n",
      "Avrage =  1.5\n"
     ]
    }
   ],
   "source": [
    "a=int(input(\"Enter range:-\"))\n",
    "sum_1=0\n",
    "for i in range(1,a+1):\n",
    "    sum_1=sum_1+int(input(\"Enter values:-\"))\n",
    "avg=sum_1/a\n",
    "print(\"Avrage = \",avg)"
   ]
  },
  {
   "cell_type": "code",
   "execution_count": null,
   "id": "b322a4e4",
   "metadata": {},
   "outputs": [],
   "source": []
  }
 ],
 "metadata": {
  "kernelspec": {
   "display_name": "Python 3 (ipykernel)",
   "language": "python",
   "name": "python3"
  },
  "language_info": {
   "codemirror_mode": {
    "name": "ipython",
    "version": 3
   },
   "file_extension": ".py",
   "mimetype": "text/x-python",
   "name": "python",
   "nbconvert_exporter": "python",
   "pygments_lexer": "ipython3",
   "version": "3.11.5"
  }
 },
 "nbformat": 4,
 "nbformat_minor": 5
}
