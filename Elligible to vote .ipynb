{
 "cells": [
  {
   "cell_type": "code",
   "execution_count": 3,
   "id": "9da2107d",
   "metadata": {},
   "outputs": [
    {
     "name": "stdout",
     "output_type": "stream",
     "text": [
      "You can vote\n"
     ]
    }
   ],
   "source": [
    "age=22\n",
    "if(age>=18):\n",
    "    print(\"You can vote\")\n",
    "else:\n",
    "    print(\"You can not vote\")"
   ]
  },
  {
   "cell_type": "code",
   "execution_count": null,
   "id": "e575b649",
   "metadata": {},
   "outputs": [],
   "source": []
  }
 ],
 "metadata": {
  "kernelspec": {
   "display_name": "Python 3 (ipykernel)",
   "language": "python",
   "name": "python3"
  },
  "language_info": {
   "codemirror_mode": {
    "name": "ipython",
    "version": 3
   },
   "file_extension": ".py",
   "mimetype": "text/x-python",
   "name": "python",
   "nbconvert_exporter": "python",
   "pygments_lexer": "ipython3",
   "version": "3.11.5"
  }
 },
 "nbformat": 4,
 "nbformat_minor": 5
}
