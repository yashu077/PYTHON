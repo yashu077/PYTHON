{
 "cells": [
  {
   "cell_type": "markdown",
   "id": "2021ed01",
   "metadata": {},
   "source": [
    "# if else"
   ]
  },
  {
   "cell_type": "code",
   "execution_count": 2,
   "id": "ebde2a53",
   "metadata": {},
   "outputs": [],
   "source": [
    "#if ---- only for true condition "
   ]
  },
  {
   "cell_type": "code",
   "execution_count": 3,
   "id": "1f4265f5",
   "metadata": {},
   "outputs": [],
   "source": [
    "#if else ------ for both true and false condition "
   ]
  },
  {
   "cell_type": "code",
   "execution_count": null,
   "id": "37ec04f9",
   "metadata": {},
   "outputs": [],
   "source": []
  },
  {
   "cell_type": "code",
   "execution_count": 6,
   "id": "136c3e85",
   "metadata": {},
   "outputs": [
    {
     "name": "stdout",
     "output_type": "stream",
     "text": [
      "the value is garter 7\n"
     ]
    }
   ],
   "source": [
    "#if \n",
    "var1=7\n",
    "if (var1>5):\n",
    "    print('the value is garter',var1)"
   ]
  },
  {
   "cell_type": "code",
   "execution_count": 8,
   "id": "742274db",
   "metadata": {},
   "outputs": [
    {
     "name": "stdout",
     "output_type": "stream",
     "text": [
      "you can vote\n"
     ]
    }
   ],
   "source": [
    "#if else\n",
    "var2=18\n",
    "if var2>=18:\n",
    "    print(\"you can vote\")\n",
    "else:\n",
    "    print(\"you can not vote\")"
   ]
  },
  {
   "cell_type": "code",
   "execution_count": null,
   "id": "65447e94",
   "metadata": {},
   "outputs": [],
   "source": []
  },
  {
   "cell_type": "code",
   "execution_count": 9,
   "id": "a3771b63",
   "metadata": {},
   "outputs": [],
   "source": [
    "#if else ledder ---- when one variable & multiple conditions "
   ]
  },
  {
   "cell_type": "code",
   "execution_count": null,
   "id": "d7f2e6fe",
   "metadata": {},
   "outputs": [],
   "source": [
    "if condition:\n",
    "    statement\n",
    "elif condition :\n",
    "    ststement\n",
    "else:\n",
    "    ststement"
   ]
  },
  {
   "cell_type": "code",
   "execution_count": 11,
   "id": "4ee40dee",
   "metadata": {},
   "outputs": [
    {
     "name": "stdout",
     "output_type": "stream",
     "text": [
      "A\n"
     ]
    }
   ],
   "source": [
    "var3= 99\n",
    "if(var3>80):\n",
    "    print(\"Grade A\")\n",
    "elif (var3>65):\n",
    "    print(\"Grade B\")\n",
    "elif(var3>55):\n",
    "    print(\"Grade C\")\n",
    "elif (var3>33):\n",
    "    print(\"Grade D\")\n",
    "else:\n",
    "    print(\"Fail\")"
   ]
  },
  {
   "cell_type": "code",
   "execution_count": null,
   "id": "21f174da",
   "metadata": {},
   "outputs": [],
   "source": []
  },
  {
   "cell_type": "code",
   "execution_count": 12,
   "id": "be1149fb",
   "metadata": {},
   "outputs": [],
   "source": [
    "#nested if else ----- used when multiple variable and multiple condition"
   ]
  },
  {
   "cell_type": "code",
   "execution_count": null,
   "id": "22eff933",
   "metadata": {},
   "outputs": [],
   "source": [
    "if conditon:\n",
    "    if condition:\n",
    "        ststement\n",
    "    else:\n",
    "        ststement\n",
    "else:\n",
    "    if condition:\n",
    "        ststement \n",
    "    else:\n",
    "        ststement"
   ]
  },
  {
   "cell_type": "code",
   "execution_count": 16,
   "id": "3b094332",
   "metadata": {},
   "outputs": [
    {
     "name": "stdout",
     "output_type": "stream",
     "text": [
      "B is gratest among all  23\n"
     ]
    }
   ],
   "source": [
    "#nested if else with 3 variables \n",
    "a=10\n",
    "b=23\n",
    "c=1\n",
    "if (a>b):\n",
    "    if(a>c):\n",
    "        print(\"A is gratest among all \",a)\n",
    "    else:\n",
    "        print(\"C is gratest among all \",c)\n",
    "else:\n",
    "    if(b>c):\n",
    "        print(\"B is gratest among all \",b)\n",
    "    else:\n",
    "        print(\"C is gratest among all \",c)"
   ]
  },
  {
   "cell_type": "code",
   "execution_count": 20,
   "id": "758fac07",
   "metadata": {},
   "outputs": [
    {
     "name": "stdout",
     "output_type": "stream",
     "text": [
      "a= 1 b= 2 c= 3 d= 4 e= 5\n"
     ]
    }
   ],
   "source": [
    "#nested if else with 5 variables \n",
    "a=1\n",
    "b=2\n",
    "c=3\n",
    "d=4\n",
    "e=5\n",
    "print(\"a=\",a,\"b=\",b,\"c=\",c,\"d=\",d,\"e=\",e)\n"
   ]
  },
  {
   "cell_type": "code",
   "execution_count": null,
   "id": "8cab41e5",
   "metadata": {},
   "outputs": [],
   "source": []
  }
 ],
 "metadata": {
  "kernelspec": {
   "display_name": "Python 3 (ipykernel)",
   "language": "python",
   "name": "python3"
  },
  "language_info": {
   "codemirror_mode": {
    "name": "ipython",
    "version": 3
   },
   "file_extension": ".py",
   "mimetype": "text/x-python",
   "name": "python",
   "nbconvert_exporter": "python",
   "pygments_lexer": "ipython3",
   "version": "3.11.5"
  }
 },
 "nbformat": 4,
 "nbformat_minor": 5
}
