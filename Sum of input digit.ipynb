{
 "cells": [
  {
   "cell_type": "code",
   "execution_count": 14,
   "id": "10f5fb76",
   "metadata": {},
   "outputs": [
    {
     "name": "stdout",
     "output_type": "stream",
     "text": [
      "Enter number:-12\n",
      "Sum of given number is:- 3\n"
     ]
    }
   ],
   "source": [
    "no=int(input(\"Enter number:-\"))\n",
    "sum1=0\n",
    "while(no!=0):\n",
    "    dem=no%10\n",
    "    sum1=sum1+dem\n",
    "    no=no//10\n",
    "print(\"Sum of given number is:-\",sum1)"
   ]
  },
  {
   "cell_type": "code",
   "execution_count": null,
   "id": "fcd14e2d",
   "metadata": {},
   "outputs": [],
   "source": []
  },
  {
   "cell_type": "code",
   "execution_count": 32,
   "id": "f3a0b4fd",
   "metadata": {},
   "outputs": [
    {
     "name": "stdout",
     "output_type": "stream",
     "text": [
      "Enter number:-123\n",
      "Sum of given number is:- 6\n"
     ]
    }
   ],
   "source": [
    "no=input(\"Enter number:-\")\n",
    "sum1=0\n",
    "for i in (no):\n",
    "    sum1=sum1+int(i)\n",
    "print(\"Sum of given number is:-\",sum1)"
   ]
  },
  {
   "cell_type": "code",
   "execution_count": null,
   "id": "774a8dff",
   "metadata": {},
   "outputs": [],
   "source": []
  },
  {
   "cell_type": "code",
   "execution_count": 33,
   "id": "70721509",
   "metadata": {},
   "outputs": [
    {
     "name": "stdout",
     "output_type": "stream",
     "text": [
      "Enter number:-123\n",
      "Sum of given number is:- 6\n"
     ]
    }
   ],
   "source": [
    "no=int(input(\"Enter number:-\"))\n",
    "sum1=0\n",
    "for i in (str(no)):\n",
    "    sum1=sum1+int(i)\n",
    "print(\"Sum of given number is:-\",sum1)"
   ]
  },
  {
   "cell_type": "code",
   "execution_count": null,
   "id": "8e880f99",
   "metadata": {},
   "outputs": [],
   "source": []
  }
 ],
 "metadata": {
  "kernelspec": {
   "display_name": "Python 3 (ipykernel)",
   "language": "python",
   "name": "python3"
  },
  "language_info": {
   "codemirror_mode": {
    "name": "ipython",
    "version": 3
   },
   "file_extension": ".py",
   "mimetype": "text/x-python",
   "name": "python",
   "nbconvert_exporter": "python",
   "pygments_lexer": "ipython3",
   "version": "3.11.5"
  }
 },
 "nbformat": 4,
 "nbformat_minor": 5
}
