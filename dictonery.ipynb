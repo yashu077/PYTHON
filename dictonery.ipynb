{
 "cells": [
  {
   "cell_type": "markdown",
   "id": "04d506d7",
   "metadata": {},
   "source": [
    "# Dictionaries"
   ]
  },
  {
   "cell_type": "raw",
   "id": "ad24832c",
   "metadata": {},
   "source": [
    "Dictionaries are used to store data values in key:value pairs.\n",
    "\n",
    "A dictionary is a collection which is ordered*, changeable and do not allow duplicates.\n",
    "x={key:value,key:value}"
   ]
  },
  {
   "cell_type": "code",
   "execution_count": 3,
   "id": "a183426c",
   "metadata": {},
   "outputs": [
    {
     "name": "stdout",
     "output_type": "stream",
     "text": [
      "{'Name': 'Yash', 'Subject': 'BCA', 'DOB': -2002, 'Semester': 4, 'Year': '2'}\n"
     ]
    }
   ],
   "source": [
    "#eg\n",
    "dict1={\"Name\":\"Yash\",\n",
    "       \"Subject\":\"BCA\",\n",
    "       \"DOB\":2-1-2003,\n",
    "       \"Semester\":4,\n",
    "       \"Year\":\"2\"}\n",
    "print(dict1)"
   ]
  },
  {
   "cell_type": "raw",
   "id": "3a2e8380",
   "metadata": {},
   "source": [
    "************************in************************\n",
    "Method\t              Description\n",
    "\n",
    "clear()\t              Removes all the elements from the dictionary\n",
    "\n",
    "copy()\t              Returns a copy of the dictionary\n",
    "\n",
    "fromkeys()\t          Returns a dictionary with the specified keys and value\n",
    "\n",
    "get()\t              Returns the value of the specified key\n",
    "\n",
    "items()\t              Returns a list containing a tuple for each key value pair\n",
    "\n",
    "keys()\t              Returns a list containing the dictionary's keys\n",
    "\n",
    "pop()\t              Removes the element with the specified key\n",
    "\n",
    "popitem()\t          Removes the last inserted key-value pair\n",
    "\n",
    "setdefault()\t      Returns the value of the specified key. If the key does not exist: insert the                         key, with the specified value\n",
    "\n",
    "update()\t          Updates the dictionary with the specified key-value pairs\n",
    "\n",
    "values()\t          Returns a list of all the values in the dictionary"
   ]
  },
  {
   "cell_type": "code",
   "execution_count": null,
   "id": "a15bd43d",
   "metadata": {},
   "outputs": [],
   "source": []
  },
  {
   "cell_type": "markdown",
   "id": "e6fcde7d",
   "metadata": {},
   "source": [
    "# clear---Removes all the elements from the dictionary"
   ]
  },
  {
   "cell_type": "code",
   "execution_count": 1,
   "id": "39214845",
   "metadata": {},
   "outputs": [],
   "source": [
    "a={\"Name\":\"Aanshi\",\n",
    "  \"SUb\":\"Btec\",\n",
    "  \"DOB\":\"03-03-2004\",\n",
    "  \"Age\":20}"
   ]
  },
  {
   "cell_type": "code",
   "execution_count": 2,
   "id": "d5259609",
   "metadata": {},
   "outputs": [
    {
     "name": "stdout",
     "output_type": "stream",
     "text": [
      "{'Name': 'Aanshi', 'SUb': 'Btec', 'DOB': '03-03-2004', 'Age': 20}\n"
     ]
    }
   ],
   "source": [
    "print(a)"
   ]
  },
  {
   "cell_type": "code",
   "execution_count": 3,
   "id": "a6216329",
   "metadata": {},
   "outputs": [],
   "source": [
    "a.clear()"
   ]
  },
  {
   "cell_type": "code",
   "execution_count": 4,
   "id": "4117d5cd",
   "metadata": {},
   "outputs": [
    {
     "name": "stdout",
     "output_type": "stream",
     "text": [
      "{}\n"
     ]
    }
   ],
   "source": [
    "print(a)"
   ]
  },
  {
   "cell_type": "markdown",
   "id": "07f0bc45",
   "metadata": {},
   "source": [
    "# copy---Returns a copy of the dictionary"
   ]
  },
  {
   "cell_type": "code",
   "execution_count": 6,
   "id": "58995817",
   "metadata": {},
   "outputs": [
    {
     "name": "stdout",
     "output_type": "stream",
     "text": [
      "{'Name': 'Aanshi', 'SUb': 'B-tec', 'DOB': '03-03-2004', 'Age': 20}\n"
     ]
    }
   ],
   "source": [
    "a={\"Name\":\"Aanshi\",\n",
    "  \"SUb\":\"B-tec\",\n",
    "  \"DOB\":\"03-03-2004\",\n",
    "  \"Age\":20}\n",
    "print(a)"
   ]
  },
  {
   "cell_type": "code",
   "execution_count": 10,
   "id": "ca44bb3e",
   "metadata": {},
   "outputs": [
    {
     "name": "stdout",
     "output_type": "stream",
     "text": [
      "{'Name': 'Aanshi', 'SUb': 'B-tec', 'DOB': '03-03-2004', 'Age': 20}\n"
     ]
    }
   ],
   "source": [
    "b=a.copy()\n",
    "print(b)"
   ]
  },
  {
   "cell_type": "markdown",
   "id": "46e771f3",
   "metadata": {},
   "source": [
    "# fromkeys---Returns a dictionary with the specified keys and value"
   ]
  },
  {
   "cell_type": "code",
   "execution_count": null,
   "id": "d068f2c1",
   "metadata": {},
   "outputs": [],
   "source": []
  },
  {
   "cell_type": "code",
   "execution_count": null,
   "id": "03953765",
   "metadata": {},
   "outputs": [],
   "source": []
  },
  {
   "cell_type": "code",
   "execution_count": null,
   "id": "f76bfa75",
   "metadata": {},
   "outputs": [],
   "source": []
  },
  {
   "cell_type": "code",
   "execution_count": null,
   "id": "9ba3a801",
   "metadata": {},
   "outputs": [],
   "source": []
  },
  {
   "cell_type": "markdown",
   "id": "62d3460e",
   "metadata": {},
   "source": [
    "# get---Returns the value of the specified key"
   ]
  },
  {
   "cell_type": "code",
   "execution_count": 11,
   "id": "edf677da",
   "metadata": {},
   "outputs": [
    {
     "name": "stdout",
     "output_type": "stream",
     "text": [
      "{'Name': 'Aanshi', 'SUb': 'B-tec', 'DOB': '03-03-2004', 'Age': 20}\n"
     ]
    }
   ],
   "source": [
    "a={\"Name\":\"Aanshi\",\n",
    "  \"SUb\":\"B-tec\",\n",
    "  \"DOB\":\"03-03-2004\",\n",
    "  \"Age\":20}\n",
    "print(a)"
   ]
  },
  {
   "cell_type": "code",
   "execution_count": 12,
   "id": "3d5226c1",
   "metadata": {},
   "outputs": [],
   "source": [
    "b=a.get(\"DOB\")"
   ]
  },
  {
   "cell_type": "code",
   "execution_count": 13,
   "id": "a3c761e8",
   "metadata": {},
   "outputs": [
    {
     "name": "stdout",
     "output_type": "stream",
     "text": [
      "03-03-2004\n"
     ]
    }
   ],
   "source": [
    "print(b)"
   ]
  },
  {
   "cell_type": "code",
   "execution_count": 15,
   "id": "8ea7734e",
   "metadata": {},
   "outputs": [
    {
     "name": "stdout",
     "output_type": "stream",
     "text": [
      "Aanshi\n"
     ]
    }
   ],
   "source": [
    "print(a.get(\"Name\"))"
   ]
  },
  {
   "cell_type": "markdown",
   "id": "42c27642",
   "metadata": {},
   "source": [
    "# items---Returns a list containing a tuple for each key value pair"
   ]
  },
  {
   "cell_type": "code",
   "execution_count": 16,
   "id": "7c8c84e3",
   "metadata": {},
   "outputs": [
    {
     "name": "stdout",
     "output_type": "stream",
     "text": [
      "{'Name': 'Aanshi', 'SUb': 'B-tec', 'DOB': '03-03-2004', 'Age': 20}\n"
     ]
    }
   ],
   "source": [
    "a={\"Name\":\"Aanshi\",\n",
    "  \"SUb\":\"B-tec\",\n",
    "  \"DOB\":\"03-03-2004\",\n",
    "  \"Age\":20}\n",
    "print(a)"
   ]
  },
  {
   "cell_type": "code",
   "execution_count": 17,
   "id": "303fe5a6",
   "metadata": {},
   "outputs": [
    {
     "name": "stdout",
     "output_type": "stream",
     "text": [
      "dict_items([('Name', 'Aanshi'), ('SUb', 'B-tec'), ('DOB', '03-03-2004'), ('Age', 20)])\n"
     ]
    }
   ],
   "source": [
    "b=a.items()\n",
    "print(b)"
   ]
  },
  {
   "cell_type": "code",
   "execution_count": 18,
   "id": "2cc1910e",
   "metadata": {},
   "outputs": [
    {
     "name": "stdout",
     "output_type": "stream",
     "text": [
      "dict_items([('Name', 'Aanshi'), ('SUb', 'B-tec'), ('DOB', '03-03-2004'), ('Age', 20)])\n"
     ]
    }
   ],
   "source": [
    "print(a.items())"
   ]
  },
  {
   "cell_type": "markdown",
   "id": "02290092",
   "metadata": {},
   "source": [
    "# keys---Returns a list containing the dictionary's keys"
   ]
  },
  {
   "cell_type": "code",
   "execution_count": 19,
   "id": "2064346e",
   "metadata": {},
   "outputs": [
    {
     "name": "stdout",
     "output_type": "stream",
     "text": [
      "{'Name': 'Aanshi', 'SUb': 'B-tec', 'DOB': '03-03-2004', 'Age': 20}\n"
     ]
    }
   ],
   "source": [
    "a={\"Name\":\"Aanshi\",\n",
    "  \"SUb\":\"B-tec\",\n",
    "  \"DOB\":\"03-03-2004\",\n",
    "  \"Age\":20}\n",
    "print(a)"
   ]
  },
  {
   "cell_type": "code",
   "execution_count": 20,
   "id": "18b8a82c",
   "metadata": {},
   "outputs": [
    {
     "name": "stdout",
     "output_type": "stream",
     "text": [
      "dict_keys(['Name', 'SUb', 'DOB', 'Age'])\n"
     ]
    }
   ],
   "source": [
    "b=a.keys()\n",
    "print(b)"
   ]
  },
  {
   "cell_type": "code",
   "execution_count": 21,
   "id": "05fca170",
   "metadata": {},
   "outputs": [
    {
     "name": "stdout",
     "output_type": "stream",
     "text": [
      "dict_keys(['Name', 'SUb', 'DOB', 'Age'])\n"
     ]
    }
   ],
   "source": [
    "print(a.keys())"
   ]
  },
  {
   "cell_type": "markdown",
   "id": "82aeffb5",
   "metadata": {},
   "source": [
    "# pop---Removes the element with the specified key"
   ]
  },
  {
   "cell_type": "code",
   "execution_count": 22,
   "id": "7e8c71d5",
   "metadata": {},
   "outputs": [
    {
     "name": "stdout",
     "output_type": "stream",
     "text": [
      "{'Name': 'Aanshi', 'SUb': 'B-tec', 'DOB': '03-03-2004', 'Age': 20}\n"
     ]
    }
   ],
   "source": [
    "a={\"Name\":\"Aanshi\",\n",
    "  \"SUb\":\"B-tec\",\n",
    "  \"DOB\":\"03-03-2004\",\n",
    "  \"Age\":20}\n",
    "print(a)"
   ]
  },
  {
   "cell_type": "code",
   "execution_count": 23,
   "id": "dc5fec73",
   "metadata": {},
   "outputs": [
    {
     "ename": "TypeError",
     "evalue": "pop expected at least 1 argument, got 0",
     "output_type": "error",
     "traceback": [
      "\u001b[1;31m---------------------------------------------------------------------------\u001b[0m",
      "\u001b[1;31mTypeError\u001b[0m                                 Traceback (most recent call last)",
      "Cell \u001b[1;32mIn[23], line 1\u001b[0m\n\u001b[1;32m----> 1\u001b[0m a\u001b[38;5;241m.\u001b[39mpop()\n\u001b[0;32m      2\u001b[0m \u001b[38;5;28mprint\u001b[39m(a)\n",
      "\u001b[1;31mTypeError\u001b[0m: pop expected at least 1 argument, got 0"
     ]
    }
   ],
   "source": [
    "a.pop()\n",
    "print(a)"
   ]
  },
  {
   "cell_type": "code",
   "execution_count": 24,
   "id": "b225d53e",
   "metadata": {},
   "outputs": [
    {
     "name": "stdout",
     "output_type": "stream",
     "text": [
      "{'Name': 'Aanshi', 'SUb': 'B-tec', 'DOB': '03-03-2004'}\n"
     ]
    }
   ],
   "source": [
    "a.pop(\"Age\")\n",
    "print(a)"
   ]
  },
  {
   "cell_type": "code",
   "execution_count": 25,
   "id": "547cec70",
   "metadata": {},
   "outputs": [
    {
     "ename": "KeyError",
     "evalue": "'Aanshi'",
     "output_type": "error",
     "traceback": [
      "\u001b[1;31m---------------------------------------------------------------------------\u001b[0m",
      "\u001b[1;31mKeyError\u001b[0m                                  Traceback (most recent call last)",
      "Cell \u001b[1;32mIn[25], line 1\u001b[0m\n\u001b[1;32m----> 1\u001b[0m a\u001b[38;5;241m.\u001b[39mpop(\u001b[38;5;124m\"\u001b[39m\u001b[38;5;124mAanshi\u001b[39m\u001b[38;5;124m\"\u001b[39m)\n\u001b[0;32m      2\u001b[0m \u001b[38;5;28mprint\u001b[39m(a)\n",
      "\u001b[1;31mKeyError\u001b[0m: 'Aanshi'"
     ]
    }
   ],
   "source": [
    "a.pop(\"Aanshi\")\n",
    "print(a)"
   ]
  },
  {
   "cell_type": "markdown",
   "id": "eb40cde0",
   "metadata": {},
   "source": [
    "# popitem---Removes the last inserted key-value pair"
   ]
  },
  {
   "cell_type": "code",
   "execution_count": 26,
   "id": "cb35f373",
   "metadata": {},
   "outputs": [
    {
     "name": "stdout",
     "output_type": "stream",
     "text": [
      "{'Name': 'Aanshi', 'SUb': 'B-tec', 'DOB': '03-03-2004', 'Age': 20}\n"
     ]
    }
   ],
   "source": [
    "a={\"Name\":\"Aanshi\",\n",
    "  \"SUb\":\"B-tec\",\n",
    "  \"DOB\":\"03-03-2004\",\n",
    "  \"Age\":20}\n",
    "print(a)"
   ]
  },
  {
   "cell_type": "code",
   "execution_count": 27,
   "id": "4fb2c7c2",
   "metadata": {},
   "outputs": [
    {
     "name": "stdout",
     "output_type": "stream",
     "text": [
      "{'Name': 'Aanshi', 'SUb': 'B-tec', 'DOB': '03-03-2004'}\n"
     ]
    }
   ],
   "source": [
    "a.popitem()\n",
    "print(a)"
   ]
  },
  {
   "cell_type": "code",
   "execution_count": 28,
   "id": "7e5f53ca",
   "metadata": {},
   "outputs": [
    {
     "ename": "TypeError",
     "evalue": "dict.popitem() takes no arguments (1 given)",
     "output_type": "error",
     "traceback": [
      "\u001b[1;31m---------------------------------------------------------------------------\u001b[0m",
      "\u001b[1;31mTypeError\u001b[0m                                 Traceback (most recent call last)",
      "Cell \u001b[1;32mIn[28], line 1\u001b[0m\n\u001b[1;32m----> 1\u001b[0m a\u001b[38;5;241m.\u001b[39mpopitem(\u001b[38;5;124m\"\u001b[39m\u001b[38;5;124mAanshi\u001b[39m\u001b[38;5;124m\"\u001b[39m)\n\u001b[0;32m      2\u001b[0m \u001b[38;5;28mprint\u001b[39m(a)\n",
      "\u001b[1;31mTypeError\u001b[0m: dict.popitem() takes no arguments (1 given)"
     ]
    }
   ],
   "source": [
    "a.popitem(\"Aanshi\")\n",
    "print(a)"
   ]
  },
  {
   "cell_type": "markdown",
   "id": "7a1622b5",
   "metadata": {},
   "source": [
    "# setdefault---Returns the value of the specified key. If the key does not exist: insert the                         key, with the specified value"
   ]
  },
  {
   "cell_type": "code",
   "execution_count": null,
   "id": "bc6d02cb",
   "metadata": {},
   "outputs": [],
   "source": []
  },
  {
   "cell_type": "code",
   "execution_count": null,
   "id": "571d93be",
   "metadata": {},
   "outputs": [],
   "source": []
  },
  {
   "cell_type": "code",
   "execution_count": null,
   "id": "c03a581e",
   "metadata": {},
   "outputs": [],
   "source": []
  },
  {
   "cell_type": "code",
   "execution_count": null,
   "id": "0c3173f5",
   "metadata": {},
   "outputs": [],
   "source": []
  },
  {
   "cell_type": "markdown",
   "id": "0aba2949",
   "metadata": {},
   "source": [
    "# update---Updates the dictionary with the specified key-value pairs"
   ]
  },
  {
   "cell_type": "code",
   "execution_count": 29,
   "id": "cd6c8d4e",
   "metadata": {},
   "outputs": [
    {
     "name": "stdout",
     "output_type": "stream",
     "text": [
      "{'Name': 'Aanshi', 'SUb': 'B-tec', 'DOB': '03-03-2004', 'Age': 20}\n"
     ]
    }
   ],
   "source": [
    "a={\"Name\":\"Aanshi\",\n",
    "  \"SUb\":\"B-tec\",\n",
    "  \"DOB\":\"03-03-2004\",\n",
    "  \"Age\":20}\n",
    "print(a)"
   ]
  },
  {
   "cell_type": "code",
   "execution_count": 31,
   "id": "25b0995b",
   "metadata": {},
   "outputs": [
    {
     "name": "stdout",
     "output_type": "stream",
     "text": [
      "{'Name': 'Aanshi', 'SUb': 'B-tec', 'DOB': '03-03-2004', 'Age': 20, 'Gender': 'F'}\n"
     ]
    }
   ],
   "source": [
    "a.update({\"Gender\":\"F\"})\n",
    "print(a)"
   ]
  },
  {
   "cell_type": "code",
   "execution_count": 33,
   "id": "b9b5bcf9",
   "metadata": {},
   "outputs": [],
   "source": [
    "b={\"Collage\":\"TMU\"}"
   ]
  },
  {
   "cell_type": "code",
   "execution_count": 35,
   "id": "c4c4452b",
   "metadata": {},
   "outputs": [
    {
     "name": "stdout",
     "output_type": "stream",
     "text": [
      "{'Name': 'Aanshi', 'SUb': 'B-tec', 'DOB': '03-03-2004', 'Age': 20, 'Gender': 'F', 'Collage': 'TMU'}\n"
     ]
    }
   ],
   "source": [
    "a.update(b)\n",
    "print(a)"
   ]
  },
  {
   "cell_type": "markdown",
   "id": "a75edfc9",
   "metadata": {},
   "source": [
    "# values---Returns a list of all the values in the dictionary"
   ]
  },
  {
   "cell_type": "code",
   "execution_count": 36,
   "id": "b2b704a5",
   "metadata": {},
   "outputs": [
    {
     "name": "stdout",
     "output_type": "stream",
     "text": [
      "{'Name': 'Aanshi', 'SUb': 'B-tec', 'DOB': '03-03-2004', 'Age': 20}\n"
     ]
    }
   ],
   "source": [
    "a={\"Name\":\"Aanshi\",\n",
    "  \"SUb\":\"B-tec\",\n",
    "  \"DOB\":\"03-03-2004\",\n",
    "  \"Age\":20}\n",
    "print(a)"
   ]
  },
  {
   "cell_type": "code",
   "execution_count": 37,
   "id": "8e959b91",
   "metadata": {},
   "outputs": [
    {
     "name": "stdout",
     "output_type": "stream",
     "text": [
      "dict_values(['Aanshi', 'B-tec', '03-03-2004', 20])\n"
     ]
    }
   ],
   "source": [
    "print(a.values())"
   ]
  },
  {
   "cell_type": "code",
   "execution_count": null,
   "id": "f9a77b80",
   "metadata": {},
   "outputs": [],
   "source": []
  }
 ],
 "metadata": {
  "kernelspec": {
   "display_name": "Python 3 (ipykernel)",
   "language": "python",
   "name": "python3"
  },
  "language_info": {
   "codemirror_mode": {
    "name": "ipython",
    "version": 3
   },
   "file_extension": ".py",
   "mimetype": "text/x-python",
   "name": "python",
   "nbconvert_exporter": "python",
   "pygments_lexer": "ipython3",
   "version": "3.11.5"
  }
 },
 "nbformat": 4,
 "nbformat_minor": 5
}
