{
 "cells": [
  {
   "cell_type": "code",
   "execution_count": 8,
   "id": "b8477caa",
   "metadata": {},
   "outputs": [
    {
     "name": "stdout",
     "output_type": "stream",
     "text": [
      "Enter a number:-153\n",
      "Answer:- 153\n",
      "Amstrong number\n"
     ]
    }
   ],
   "source": [
    "a=int(input(\"Enter a number:-\"))\n",
    "x=a\n",
    "b=str(a)\n",
    "c=len(b)\n",
    "amm=0\n",
    "while(x!=0):\n",
    "    mod=x%10\n",
    "    amm=amm+(mod**c)\n",
    "    x=x//10\n",
    "print(\"Answer:-\",amm)\n",
    "if(a==amm):\n",
    "    print(\"Amstrong number\")\n",
    "else:\n",
    "    print(\"Not a Amstrong number\")"
   ]
  },
  {
   "cell_type": "code",
   "execution_count": 13,
   "id": "9eb362e9",
   "metadata": {},
   "outputs": [
    {
     "name": "stdout",
     "output_type": "stream",
     "text": [
      "Enter a number:-153\n",
      "Answer:- 153\n",
      "Amstrong number\n"
     ]
    }
   ],
   "source": [
    " a=int(input(\"Enter a number:-\"))\n",
    "x=a\n",
    "b=str(a)\n",
    "c=len(b)\n",
    "amm=0\n",
    "for i in str(x):\n",
    "    y=int(i)\n",
    "    amm=amm+(y**c)\n",
    "print(\"Answer:-\",amm)\n",
    "if(a==amm):\n",
    "    print(\"Amstrong number\")\n",
    "else:\n",
    "    print(\"Not a Amstrong number\")"
   ]
  },
  {
   "cell_type": "code",
   "execution_count": null,
   "id": "331c751d",
   "metadata": {},
   "outputs": [],
   "source": []
  },
  {
   "cell_type": "code",
   "execution_count": null,
   "id": "8bb4c0c7",
   "metadata": {},
   "outputs": [],
   "source": []
  }
 ],
 "metadata": {
  "kernelspec": {
   "display_name": "Python 3 (ipykernel)",
   "language": "python",
   "name": "python3"
  },
  "language_info": {
   "codemirror_mode": {
    "name": "ipython",
    "version": 3
   },
   "file_extension": ".py",
   "mimetype": "text/x-python",
   "name": "python",
   "nbconvert_exporter": "python",
   "pygments_lexer": "ipython3",
   "version": "3.11.5"
  }
 },
 "nbformat": 4,
 "nbformat_minor": 5
}
