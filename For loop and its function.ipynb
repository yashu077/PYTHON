{
 "cells": [
  {
   "cell_type": "code",
   "execution_count": 2,
   "id": "642d0b8c",
   "metadata": {},
   "outputs": [
    {
     "name": "stdout",
     "output_type": "stream",
     "text": [
      "y\n",
      "a\n",
      "s\n",
      "h\n"
     ]
    }
   ],
   "source": [
    "a=\"yash\"\n",
    "for i in a:\n",
    "    print(i)"
   ]
  },
  {
   "cell_type": "code",
   "execution_count": 3,
   "id": "3dd50761",
   "metadata": {},
   "outputs": [
    {
     "name": "stdout",
     "output_type": "stream",
     "text": [
      "yash\n",
      "yash\n",
      "yash\n",
      "yash\n"
     ]
    }
   ],
   "source": [
    "b=\"yash\"\n",
    "for i in b:\n",
    "    print(b)"
   ]
  },
  {
   "cell_type": "code",
   "execution_count": null,
   "id": "f7b231a1",
   "metadata": {},
   "outputs": [],
   "source": []
  },
  {
   "cell_type": "code",
   "execution_count": 19,
   "id": "db51a250",
   "metadata": {},
   "outputs": [],
   "source": [
    "#functons in for loop\n",
    "# 1-- Range\n",
    "# 2-- enumrate\n",
    "# 3-- zip"
   ]
  },
  {
   "cell_type": "code",
   "execution_count": null,
   "id": "4d3211ca",
   "metadata": {},
   "outputs": [],
   "source": []
  },
  {
   "cell_type": "code",
   "execution_count": 10,
   "id": "62b1938b",
   "metadata": {},
   "outputs": [],
   "source": [
    "#range function \n",
    "# in range (x,y,z)\n",
    "# where x= starting point\n",
    "#       y= end pont \n",
    "#       z= jump (incriment value)\n",
    "#  whre y should be the n+1 value for desired n "
   ]
  },
  {
   "cell_type": "code",
   "execution_count": 13,
   "id": "b68ba41e",
   "metadata": {},
   "outputs": [
    {
     "name": "stdout",
     "output_type": "stream",
     "text": [
      "1\n",
      "2\n",
      "3\n",
      "4\n",
      "5\n",
      "6\n",
      "7\n",
      "8\n",
      "9\n",
      "10\n"
     ]
    }
   ],
   "source": [
    "#eg1\n",
    "for i in range(1,11):\n",
    "    print(i)"
   ]
  },
  {
   "cell_type": "code",
   "execution_count": 15,
   "id": "3574c70d",
   "metadata": {},
   "outputs": [
    {
     "name": "stdout",
     "output_type": "stream",
     "text": [
      "1\n",
      "3\n",
      "5\n",
      "7\n",
      "9\n"
     ]
    }
   ],
   "source": [
    "#eg2\n",
    "for x in range (1,11,2):\n",
    "    print(x)"
   ]
  },
  {
   "cell_type": "code",
   "execution_count": 18,
   "id": "97940427",
   "metadata": {},
   "outputs": [
    {
     "name": "stdout",
     "output_type": "stream",
     "text": [
      "11\n",
      "10\n",
      "9\n",
      "8\n",
      "7\n",
      "6\n",
      "5\n",
      "4\n",
      "3\n",
      "2\n"
     ]
    }
   ],
   "source": [
    "#eg3\n",
    "for z in range (11,1,-1):\n",
    "    print(z)"
   ]
  },
  {
   "cell_type": "code",
   "execution_count": null,
   "id": "6b95e7ef",
   "metadata": {},
   "outputs": [],
   "source": []
  },
  {
   "cell_type": "code",
   "execution_count": 23,
   "id": "532ad415",
   "metadata": {},
   "outputs": [],
   "source": [
    " #enumerate function in for loop"
   ]
  },
  {
   "cell_type": "code",
   "execution_count": null,
   "id": "4a2786c6",
   "metadata": {},
   "outputs": [],
   "source": [
    "### this enumerate function print result in form of \n",
    "    # index and element \n",
    "    "
   ]
  },
  {
   "cell_type": "code",
   "execution_count": 24,
   "id": "bb5cf604",
   "metadata": {},
   "outputs": [
    {
     "name": "stdout",
     "output_type": "stream",
     "text": [
      "(0, 'yash')\n",
      "(1, 'arpan')\n",
      "(2, 'shivansh')\n",
      "(3, 123)\n",
      "(4, 852)\n",
      "(5, 159)\n"
     ]
    }
   ],
   "source": [
    "lst_1=[\"yash\",\"arpan\",\"shivansh\",123,852,159]\n",
    "for i in enumerate(lst_1):\n",
    "    print(i)\n",
    "    "
   ]
  },
  {
   "cell_type": "code",
   "execution_count": 28,
   "id": "080ddea9",
   "metadata": {},
   "outputs": [
    {
     "name": "stdout",
     "output_type": "stream",
     "text": [
      "0\n",
      "1\n",
      "2\n",
      "3\n",
      "4\n",
      "5\n"
     ]
    }
   ],
   "source": [
    "# to print index value only\n",
    "lst_1=[\"yash\",\"arpan\",\"shivansh\",123,852,159]\n",
    "for i in enumerate(lst_1):\n",
    "    print(i[0])\n",
    "    "
   ]
  },
  {
   "cell_type": "code",
   "execution_count": 29,
   "id": "acda9b92",
   "metadata": {},
   "outputs": [
    {
     "name": "stdout",
     "output_type": "stream",
     "text": [
      "yash\n",
      "arpan\n",
      "shivansh\n",
      "123\n",
      "852\n",
      "159\n"
     ]
    }
   ],
   "source": [
    "#to print element value only\n",
    "lst_1=[\"yash\",\"arpan\",\"shivansh\",123,852,159]\n",
    "for i in enumerate(lst_1):\n",
    "    print(i[1])"
   ]
  },
  {
   "cell_type": "code",
   "execution_count": null,
   "id": "e02f74c3",
   "metadata": {},
   "outputs": [],
   "source": []
  },
  {
   "cell_type": "code",
   "execution_count": 30,
   "id": "c935ee91",
   "metadata": {},
   "outputs": [],
   "source": [
    "#Zip function in fore loop"
   ]
  },
  {
   "cell_type": "code",
   "execution_count": 32,
   "id": "5c81ce87",
   "metadata": {},
   "outputs": [],
   "source": [
    "# this zip function is used to combine data  of two or more data types and print output(Horisontally)(Index wise)"
   ]
  },
  {
   "cell_type": "code",
   "execution_count": 35,
   "id": "22861ff1",
   "metadata": {},
   "outputs": [
    {
     "name": "stdout",
     "output_type": "stream",
     "text": [
      "<class 'list'>\n",
      "<class 'tuple'>\n",
      "Name Yash\n",
      "Class BCA\n",
      "Subject Python\n"
     ]
    }
   ],
   "source": [
    "#eg --1\n",
    "a=[\"Name\",\"Class\",\"Subject\"]\n",
    "b=(\"Yash\",\"BCA\",\"Python\")\n",
    "print(type(a))\n",
    "print(type(b))\n",
    "for i,j in zip(a,b):\n",
    "    print(i,j)"
   ]
  },
  {
   "cell_type": "code",
   "execution_count": 37,
   "id": "bc7b43ff",
   "metadata": {},
   "outputs": [
    {
     "name": "stdout",
     "output_type": "stream",
     "text": [
      "<class 'list'>\n",
      "<class 'tuple'>\n",
      "<class 'set'>\n",
      "Name Yash 33\n",
      "Class BCA 11\n",
      "Subject Python 22\n"
     ]
    }
   ],
   "source": [
    "#eg --2\n",
    "a=[\"Name\",\"Class\",\"Subject\"]\n",
    "b=(\"Yash\",\"BCA\",\"Python\")\n",
    "c={11,22,33}\n",
    "print(type(a))\n",
    "print(type(b))\n",
    "print(type(c))\n",
    "for i,j,k in zip(a,b,c):\n",
    "    print(i,j,k)"
   ]
  },
  {
   "cell_type": "code",
   "execution_count": null,
   "id": "3f460d14",
   "metadata": {},
   "outputs": [],
   "source": []
  }
 ],
 "metadata": {
  "kernelspec": {
   "display_name": "Python 3 (ipykernel)",
   "language": "python",
   "name": "python3"
  },
  "language_info": {
   "codemirror_mode": {
    "name": "ipython",
    "version": 3
   },
   "file_extension": ".py",
   "mimetype": "text/x-python",
   "name": "python",
   "nbconvert_exporter": "python",
   "pygments_lexer": "ipython3",
   "version": "3.11.5"
  }
 },
 "nbformat": 4,
 "nbformat_minor": 5
}
