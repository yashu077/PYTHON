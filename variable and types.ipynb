{
 "cells": [
  {
   "cell_type": "code",
   "execution_count": 1,
   "id": "21bf8bfe",
   "metadata": {},
   "outputs": [
    {
     "name": "stdout",
     "output_type": "stream",
     "text": [
      "123\n"
     ]
    }
   ],
   "source": [
    "var=123\n",
    "print(var)\n"
   ]
  },
  {
   "cell_type": "code",
   "execution_count": 2,
   "id": "b86154d5",
   "metadata": {},
   "outputs": [
    {
     "name": "stdout",
     "output_type": "stream",
     "text": [
      "123 <class 'int'>\n"
     ]
    }
   ],
   "source": [
    "print(var,type(var))"
   ]
  },
  {
   "cell_type": "code",
   "execution_count": 3,
   "id": "1bfef807",
   "metadata": {},
   "outputs": [
    {
     "name": "stdout",
     "output_type": "stream",
     "text": [
      "yashveer\n"
     ]
    }
   ],
   "source": [
    "var1=\"yashveer\"\n",
    "print(var1)"
   ]
  },
  {
   "cell_type": "code",
   "execution_count": 4,
   "id": "f1d4603c",
   "metadata": {},
   "outputs": [
    {
     "name": "stdout",
     "output_type": "stream",
     "text": [
      "yashveer <class 'str'>\n"
     ]
    }
   ],
   "source": [
    "print(var1,type(var1))"
   ]
  },
  {
   "cell_type": "code",
   "execution_count": 5,
   "id": "79336bd6",
   "metadata": {},
   "outputs": [
    {
     "name": "stdout",
     "output_type": "stream",
     "text": [
      "123.321\n"
     ]
    }
   ],
   "source": [
    "var2=123.321\n",
    "print(var2)\n"
   ]
  },
  {
   "cell_type": "code",
   "execution_count": 6,
   "id": "75365b87",
   "metadata": {},
   "outputs": [
    {
     "name": "stdout",
     "output_type": "stream",
     "text": [
      "123.321 <class 'float'>\n"
     ]
    }
   ],
   "source": [
    "print(var2,type(var2))"
   ]
  },
  {
   "cell_type": "code",
   "execution_count": 8,
   "id": "0dc83c67",
   "metadata": {},
   "outputs": [
    {
     "name": "stdout",
     "output_type": "stream",
     "text": [
      "True\n"
     ]
    }
   ],
   "source": [
    "var3= True\n",
    "print(var3)"
   ]
  },
  {
   "cell_type": "code",
   "execution_count": 9,
   "id": "b504e1a0",
   "metadata": {},
   "outputs": [
    {
     "name": "stdout",
     "output_type": "stream",
     "text": [
      "True <class 'bool'>\n"
     ]
    }
   ],
   "source": [
    "print(var3,type(var3))"
   ]
  },
  {
   "cell_type": "code",
   "execution_count": 10,
   "id": "655416e4",
   "metadata": {},
   "outputs": [
    {
     "name": "stdout",
     "output_type": "stream",
     "text": [
      "(3+4j)\n",
      "(3+4j) <class 'complex'>\n"
     ]
    }
   ],
   "source": [
    "var4=3+4j\n",
    "print(var4)\n",
    "print(var4,type(var4))"
   ]
  },
  {
   "cell_type": "code",
   "execution_count": null,
   "id": "c4e6d261",
   "metadata": {},
   "outputs": [],
   "source": []
  }
 ],
 "metadata": {
  "kernelspec": {
   "display_name": "Python 3 (ipykernel)",
   "language": "python",
   "name": "python3"
  },
  "language_info": {
   "codemirror_mode": {
    "name": "ipython",
    "version": 3
   },
   "file_extension": ".py",
   "mimetype": "text/x-python",
   "name": "python",
   "nbconvert_exporter": "python",
   "pygments_lexer": "ipython3",
   "version": "3.11.5"
  }
 },
 "nbformat": 4,
 "nbformat_minor": 5
}
