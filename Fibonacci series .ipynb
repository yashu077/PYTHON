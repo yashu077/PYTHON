{
 "cells": [
  {
   "cell_type": "code",
   "execution_count": 5,
   "id": "994d6c7d",
   "metadata": {},
   "outputs": [
    {
     "name": "stdout",
     "output_type": "stream",
     "text": [
      "Enter a number:-5\n",
      "0\n",
      "1\n",
      "Series= 1\n",
      "Series= 2\n",
      "Series= 3\n",
      "Series= 5\n",
      "Series= 8\n",
      "Ans= 8\n"
     ]
    }
   ],
   "source": [
    "no=int(input(\"Enter a number:-\"))\n",
    "i=1\n",
    "a=0\n",
    "b=1\n",
    "print(a)\n",
    "print(b)\n",
    "while(i<=no):\n",
    "    c=a+b\n",
    "    a=b\n",
    "    b=c\n",
    "    i+=1\n",
    "    print(\"Series=\",c)\n",
    "print(\"Ans=\",c)\n",
    "    \n",
    "    "
   ]
  },
  {
   "cell_type": "code",
   "execution_count": 11,
   "id": "6a3cdc74",
   "metadata": {},
   "outputs": [
    {
     "name": "stdout",
     "output_type": "stream",
     "text": [
      "Enter a number:-5\n",
      "0\n",
      "1\n",
      "Series= 1\n",
      "Series= 2\n",
      "Series= 3\n",
      "Series= 5\n",
      "Series= 8\n",
      "Ans= 8\n"
     ]
    }
   ],
   "source": [
    "no=int(input(\"Enter a number:-\"))\n",
    "a=0\n",
    "b=1\n",
    "print(a)\n",
    "print(b)\n",
    "for i in range(1,no+1):\n",
    "    c=a+b\n",
    "    a=b\n",
    "    b=c\n",
    "    print(\"Series=\",c)\n",
    "print(\"Ans=\",c)"
   ]
  },
  {
   "cell_type": "code",
   "execution_count": null,
   "id": "fe2545f9",
   "metadata": {},
   "outputs": [],
   "source": []
  }
 ],
 "metadata": {
  "kernelspec": {
   "display_name": "Python 3 (ipykernel)",
   "language": "python",
   "name": "python3"
  },
  "language_info": {
   "codemirror_mode": {
    "name": "ipython",
    "version": 3
   },
   "file_extension": ".py",
   "mimetype": "text/x-python",
   "name": "python",
   "nbconvert_exporter": "python",
   "pygments_lexer": "ipython3",
   "version": "3.11.5"
  }
 },
 "nbformat": 4,
 "nbformat_minor": 5
}
